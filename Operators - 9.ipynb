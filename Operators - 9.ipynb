{
 "cells": [
  {
   "cell_type": "markdown",
   "id": "5334efc3",
   "metadata": {},
   "source": [
    "## Operators - 9"
   ]
  },
  {
   "cell_type": "markdown",
   "id": "97a46672",
   "metadata": {},
   "source": [
    "Given two variables a = 3 and b = 4, calculate the integer of dividing b/a.\n",
    "Given two variables a = 3 and b = 4, calculate the reminder of and integer from dividing b/a.\n",
    "Given a list numbers = [3, 5, 7, 9, 11], calculate and print the sum of all elements in the list.\n",
    "Given a list grades = [83, 85, 72, 63, 95], calculate and print the average grade.\n",
    "Given a list prices = [5, 10, 15, 20, 25], calculate and print the highest and lowest price."
   ]
  },
  {
   "cell_type": "code",
   "execution_count": 1,
   "id": "dfa85721",
   "metadata": {},
   "outputs": [
    {
     "name": "stdout",
     "output_type": "stream",
     "text": [
      "1\n"
     ]
    }
   ],
   "source": [
    "a = 3\n",
    "b = 4\n",
    "div = b/a\n",
    "print(int(div))"
   ]
  },
  {
   "cell_type": "code",
   "execution_count": 2,
   "id": "9547fae0",
   "metadata": {},
   "outputs": [
    {
     "name": "stdout",
     "output_type": "stream",
     "text": [
      "The reminder of 4 / 3 is equal to 1 and the integer part of 4 / 3 is 1\n"
     ]
    }
   ],
   "source": [
    "a = 3\n",
    "b = 4\n",
    "rem = b % a\n",
    "div2 = b / a\n",
    "print(f\"The reminder of {b} / {a} is equal to {rem} and the integer part of {b} / {a} is {int(div2)}\")"
   ]
  },
  {
   "cell_type": "code",
   "execution_count": 5,
   "id": "98445866",
   "metadata": {},
   "outputs": [
    {
     "name": "stdout",
     "output_type": "stream",
     "text": [
      "The sum of the numbers contained in the list [3, 5, 7, 9, 11] is equal to 35\n"
     ]
    }
   ],
   "source": [
    "numbers = [3, 5, 7, 9, 11]\n",
    "sum_of_numbers = sum(numbers)\n",
    "print(f\"The sum of the numbers contained in the list {numbers} is equal to {sum_of_numbers}\")"
   ]
  },
  {
   "cell_type": "code",
   "execution_count": 8,
   "id": "3ed238ac",
   "metadata": {},
   "outputs": [
    {
     "name": "stdout",
     "output_type": "stream",
     "text": [
      "The average of the grades contained in the list [83, 85, 72, 63, 95] is 79.6\n"
     ]
    }
   ],
   "source": [
    "grades = [83, 85, 72, 63, 95]\n",
    "sum_of_num = sum(grades)\n",
    "len_of_list = len(grades)\n",
    "avg_grade = sum_of_num / len_of_list\n",
    "print(f\"The average of the grades contained in the list {grades} is {avg_grade}\")"
   ]
  },
  {
   "cell_type": "code",
   "execution_count": 9,
   "id": "f2ffc556",
   "metadata": {},
   "outputs": [
    {
     "name": "stdout",
     "output_type": "stream",
     "text": [
      "In the list [5, 10, 15, 20, 25] the highest price is 25 and the lowest is 5\n"
     ]
    }
   ],
   "source": [
    "prices = [5, 10, 15, 20, 25]\n",
    "h_price = max(prices)\n",
    "l_price = min(prices)\n",
    "print(f\"In the list {prices} the highest price is {h_price} and the lowest is {l_price}\")"
   ]
  }
 ],
 "metadata": {
  "kernelspec": {
   "display_name": "Python 3 (ipykernel)",
   "language": "python",
   "name": "python3"
  },
  "language_info": {
   "codemirror_mode": {
    "name": "ipython",
    "version": 3
   },
   "file_extension": ".py",
   "mimetype": "text/x-python",
   "name": "python",
   "nbconvert_exporter": "python",
   "pygments_lexer": "ipython3",
   "version": "3.11.3"
  }
 },
 "nbformat": 4,
 "nbformat_minor": 5
}
