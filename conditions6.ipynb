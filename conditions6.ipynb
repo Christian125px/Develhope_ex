{
 "cells": [
  {
   "cell_type": "markdown",
   "metadata": {},
   "source": [
    "# Exercise - Conditions 6"
   ]
  },
  {
   "cell_type": "markdown",
   "metadata": {},
   "source": [
    "Write a python program to input two numbers from the user and check which number is greater. If the first number is greater, print \"First number is greater\". If the second number is greater, print \"Second number is greater\". If both are equal, print \"Both numbers are equal\".\n",
    "Write a python program to find the sum of three numbers and check if it is even or odd. If the sum is even, print \"The sum is even\". If the sum is odd, print \"The sum is odd\".\n",
    "Write a python program to check if a year is a leap year or not. If the year is a leap year, print \"The year is a leap year\". If the year is not a leap year, print \"The year is not a leap year\"."
   ]
  },
  {
   "cell_type": "code",
   "execution_count": 3,
   "metadata": {},
   "outputs": [
    {
     "name": "stdout",
     "output_type": "stream",
     "text": [
      "Second number is greater\n"
     ]
    }
   ],
   "source": [
    "# Write a python program to input two numbers from the user and check which number is greater. \n",
    "# If the first number is greater, print \"First number is greater\". \n",
    "# If the second number is greater, print \"Second number is greater\". \n",
    "# If both are equal, print \"Both numbers are equal\".\n",
    "\n",
    "num1 = input(\"Please enter first number: \")\n",
    "num2 = input(\"Please enter second number: \")\n",
    "\n",
    "if num1 > num2: print(\"First number is greater\")\n",
    "elif num1 < num2: print(\"Second number is greater\")\n",
    "else: print(\"Both numbers are equal\")"
   ]
  },
  {
   "cell_type": "code",
   "execution_count": 5,
   "metadata": {},
   "outputs": [
    {
     "name": "stdout",
     "output_type": "stream",
     "text": [
      "The sum is even\n"
     ]
    }
   ],
   "source": [
    "# Write a python program to find the sum of three numbers and check if it is even or odd. \n",
    "# If the sum is even, print \"The sum is even\". If the sum is odd, print \"The sum is odd\".\n",
    "\n",
    "a = 3\n",
    "b = 3\n",
    "c = 0\n",
    "\n",
    "sum = a + b + c\n",
    "\n",
    "if sum % 2 == 0: print(\"The sum is even\")\n",
    "else: print(\"The sum is odd\")"
   ]
  },
  {
   "cell_type": "markdown",
   "metadata": {},
   "source": [
    "Third point of the exercise: checking if the year is a leap year"
   ]
  },
  {
   "cell_type": "markdown",
   "metadata": {},
   "source": [
    "## History of the Leap Year"
   ]
  },
  {
   "cell_type": "markdown",
   "metadata": {},
   "source": [
    "source: https://learn.microsoft.com/it-it/office/troubleshoot/excel/determine-a-leap-year"
   ]
  },
  {
   "cell_type": "markdown",
   "metadata": {},
   "source": [
    "In the Gregorian calendar, a normal year consists of 365 days. Since the actual length of a sidereal year (the time it takes for the Earth to revolve once around the Sun) is actually 365.2425 days, a \"leap year\" of 366 days is used once every four years to eliminate the error caused by three normal (but shorter) years. Any year that is evenly divisible by 4 is a leap year: for example, 1988, 1992, and 1996 are leap years.\n",
    "\n",
    "However, there is still one small error that needs to be taken into account. To eliminate this error, the Gregorian calendar indicates that a year divisible by 100 (such as 1900) is a leap year only if it is also divisible by 400.\n",
    "\n",
    "For this reason, subsequent years are not leap years:\n",
    "\n",
    "1700, 1800, 1900, 2100, 2200, 2300, 2500, 2600\n",
    "\n",
    "This is because they are evenly divisible by 100 but not by 400.\n",
    "\n",
    "The following years are leap years: 1600, 2000, 2400\n",
    "\n",
    "This is because they are equally divisible by both 100 and 400."
   ]
  },
  {
   "cell_type": "markdown",
   "metadata": {},
   "source": [
    "#### How to determine if a year is a leap year"
   ]
  },
  {
   "cell_type": "markdown",
   "metadata": {},
   "source": [
    "To check if a year is a leap year, follow these steps:\n",
    "\n",
    "(1) If the year is evenly divisible by 4, go to step 2. Otherwise, proceed to step 5.\n",
    "(2) If the year is evenly divisible by 100, go to step 3. Otherwise, proceed to step 4.\n",
    "(3) If the year is evenly divisible by 400, go to step 4. Otherwise, proceed to step 5.\n",
    "(4) The year is a leap year (it has 366 days).\n",
    "(5) The year is not a leap year (it has 365 days)."
   ]
  },
  {
   "cell_type": "markdown",
   "metadata": {},
   "source": [
    "Algorithm:"
   ]
  },
  {
   "cell_type": "code",
   "execution_count": 15,
   "metadata": {},
   "outputs": [
    {
     "name": "stdout",
     "output_type": "stream",
     "text": [
      "The year is a leap year\n"
     ]
    }
   ],
   "source": [
    "# Write a python program to check if a year is a leap year or not. \n",
    "# If the year is a leap year, print \"The year is a leap year\". If the year is not a leap year, print \"The year is not a leap year\".\n",
    "\n",
    "year = 2024\n",
    "\n",
    "if year % 4 == 0:\n",
    "    if year % 100 == 0:\n",
    "        if year % 400 == 0:\n",
    "            print(\"The year is a leap year\") # if the year is divisible by 4, 100 and 400 is a leap year (e.g.: 1600, 2000, 2400)\n",
    "        else: print(\"The year is not a leap year\") # if the year is divisible by 4, 100 and not by 400 is not a leap year (e.g.: 1900, 2100)\n",
    "    else: print(\"The year is a leap year\") # if the year is divisible by 4 and not by 100 is a leap year (e.g.: 2024)\n",
    "else: print(\"The year is not a leap year\") # if the year is not divisible by 4 is not a leap year (e.g.: 2023)"
   ]
  }
 ],
 "metadata": {
  "kernelspec": {
   "display_name": "Python 3",
   "language": "python",
   "name": "python3"
  },
  "language_info": {
   "codemirror_mode": {
    "name": "ipython",
    "version": 3
   },
   "file_extension": ".py",
   "mimetype": "text/x-python",
   "name": "python",
   "nbconvert_exporter": "python",
   "pygments_lexer": "ipython3",
   "version": "3.11.3"
  },
  "orig_nbformat": 4
 },
 "nbformat": 4,
 "nbformat_minor": 2
}
