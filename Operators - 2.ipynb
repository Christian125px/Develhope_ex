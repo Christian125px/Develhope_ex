{
 "cells": [
  {
   "cell_type": "markdown",
   "id": "0b8efb35",
   "metadata": {},
   "source": [
    "## Exercise 2 - Operators"
   ]
  },
  {
   "cell_type": "markdown",
   "id": "0aa71ccd",
   "metadata": {},
   "source": [
    "#### Change the logical operators in order to print True"
   ]
  },
  {
   "cell_type": "code",
   "execution_count": 1,
   "id": "08e81b0e",
   "metadata": {},
   "outputs": [
    {
     "name": "stdout",
     "output_type": "stream",
     "text": [
      "True\n"
     ]
    }
   ],
   "source": [
    "print(False or (0 != 0 or True)) # Should print True"
   ]
  }
 ],
 "metadata": {
  "kernelspec": {
   "display_name": "Python 3 (ipykernel)",
   "language": "python",
   "name": "python3"
  },
  "language_info": {
   "codemirror_mode": {
    "name": "ipython",
    "version": 3
   },
   "file_extension": ".py",
   "mimetype": "text/x-python",
   "name": "python",
   "nbconvert_exporter": "python",
   "pygments_lexer": "ipython3",
   "version": "3.11.3"
  }
 },
 "nbformat": 4,
 "nbformat_minor": 5
}
