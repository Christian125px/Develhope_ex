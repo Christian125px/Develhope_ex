{
 "cells": [
  {
   "cell_type": "markdown",
   "id": "f45ef1d0",
   "metadata": {},
   "source": [
    "# Exercise 5 - Variables"
   ]
  },
  {
   "cell_type": "markdown",
   "id": "f6c4d7ea",
   "metadata": {},
   "source": [
    "Using string slicing to extract the first and last characters of the user's name.\n",
    "Using string methods to check if the user's name contains any digits.\n",
    "Using the replace() method to replace a specific word in the sentence about the user.\n",
    "Using the split() method to split the sentence about the user into a list of words and print each word on a new line."
   ]
  },
  {
   "cell_type": "code",
   "execution_count": 5,
   "id": "4ce6e0a6",
   "metadata": {},
   "outputs": [
    {
     "name": "stdout",
     "output_type": "stream",
     "text": [
      "The first character in Christian is: C\n",
      "The last character in Christian is n\n"
     ]
    }
   ],
   "source": [
    "# Using string slicing to extract the first and last characters of the user's name.\n",
    "\n",
    "user_name = 'Christian'\n",
    "# First character\n",
    "first_char = user_name[0]\n",
    "print(f\"The first character in {user_name} is: {first_char}\")\n",
    "# Last character\n",
    "last_char = user_name[-1]\n",
    "print(f\"The last character in {user_name} is {last_char}\")"
   ]
  },
  {
   "cell_type": "code",
   "execution_count": 6,
   "id": "ef264f19",
   "metadata": {},
   "outputs": [
    {
     "name": "stdout",
     "output_type": "stream",
     "text": [
      "With in operator: False\n",
      "The user name does not contain digits.\n"
     ]
    }
   ],
   "source": [
    "# Using string methods to check if the user's name contains any digits.\n",
    "\n",
    "# with in operator (it returns True if at least one character is a number, False if there is no number):\n",
    "print(\"With in operator:\", '0' in user_name or '1' in user_name or '2' in user_name or '3' in user_name or '4' in user_name or '5' in user_name or '6' in user_name or '7' in user_name or '8' in user_name or '9' in user_name)\n",
    "\n",
    "# Another interesting / more advanced way could be:\n",
    "# with any:\n",
    "if any(char.isdigit() for char in user_name):\n",
    "    print(\"The user name contains digits.\")\n",
    "else:\n",
    "    print(\"The user name does not contain digits.\")"
   ]
  },
  {
   "cell_type": "code",
   "execution_count": 68,
   "id": "ae6d9653",
   "metadata": {},
   "outputs": [
    {
     "name": "stdout",
     "output_type": "stream",
     "text": [
      "Today is a sunny day\n",
      "Today is a cloudy day\n"
     ]
    }
   ],
   "source": [
    "# Using the replace() method to replace a specific word in the sentence about the user.\n",
    "\n",
    "sentence = \"Today is a sunny day\"\n",
    "print(sentence)\n",
    "\n",
    "sentence2 = sentence.replace('sunny', 'cloudy')\n",
    "print(sentence2)"
   ]
  },
  {
   "cell_type": "code",
   "execution_count": 77,
   "id": "e281c250",
   "metadata": {},
   "outputs": [
    {
     "name": "stdout",
     "output_type": "stream",
     "text": [
      "Sentence splitted into a list: ['Today', 'is', 'a', 'cloudy', 'day']\n",
      "String slicing:\n",
      " Today \n",
      " is \n",
      " a \n",
      " cloudy \n",
      " day\n",
      "for loop:\n",
      "Today\n",
      "is\n",
      "a\n",
      "cloudy\n",
      "day\n"
     ]
    }
   ],
   "source": [
    "# Using the split() method to split the sentence about the user into a list of words and print each word on a new line.\n",
    "\n",
    "split_sen = sentence2.split()\n",
    "print(\"Sentence splitted into a list:\", split_sen)\n",
    "\n",
    "# With string slicing:\n",
    "print(\"String slicing:\\n\", split_sen[0], '\\n', split_sen[1], '\\n', split_sen[2], '\\n', split_sen[3], '\\n', split_sen[4])\n",
    "\n",
    "# With for loop:\n",
    "print(\"for loop:\")\n",
    "for word in split_sen:\n",
    "    print(word)"
   ]
  }
 ],
 "metadata": {
  "kernelspec": {
   "display_name": "Python 3 (ipykernel)",
   "language": "python",
   "name": "python3"
  },
  "language_info": {
   "codemirror_mode": {
    "name": "ipython",
    "version": 3
   },
   "file_extension": ".py",
   "mimetype": "text/x-python",
   "name": "python",
   "nbconvert_exporter": "python",
   "pygments_lexer": "ipython3",
   "version": "3.11.3"
  }
 },
 "nbformat": 4,
 "nbformat_minor": 5
}
