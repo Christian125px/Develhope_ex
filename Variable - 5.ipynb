{
 "cells": [
  {
   "cell_type": "markdown",
   "id": "f45ef1d0",
   "metadata": {},
   "source": [
    "# Exercise 5 - Variables"
   ]
  },
  {
   "cell_type": "markdown",
   "id": "f6c4d7ea",
   "metadata": {},
   "source": [
    "Using string slicing to extract the first and last characters of the user's name.\n",
    "Using string methods to check if the user's name contains any digits.\n",
    "Using the replace() method to replace a specific word in the sentence about the user.\n",
    "Using the split() method to split the sentence about the user into a list of words and print each word on a new line."
   ]
  },
  {
   "cell_type": "code",
   "execution_count": 3,
   "id": "4ce6e0a6",
   "metadata": {},
   "outputs": [],
   "source": [
    "user_name = 'Christian'"
   ]
  },
  {
   "cell_type": "code",
   "execution_count": 24,
   "id": "f6bada42",
   "metadata": {},
   "outputs": [
    {
     "name": "stdout",
     "output_type": "stream",
     "text": [
      "C\n"
     ]
    }
   ],
   "source": [
    "first_char = user_name[0]\n",
    "print(first_char)"
   ]
  },
  {
   "cell_type": "code",
   "execution_count": 25,
   "id": "fba5a496",
   "metadata": {},
   "outputs": [
    {
     "name": "stdout",
     "output_type": "stream",
     "text": [
      "n\n"
     ]
    }
   ],
   "source": [
    "last_char = user_name[-1]\n",
    "print(last_char)"
   ]
  },
  {
   "cell_type": "code",
   "execution_count": 14,
   "id": "ef264f19",
   "metadata": {},
   "outputs": [
    {
     "data": {
      "text/plain": [
       "False"
      ]
     },
     "execution_count": 14,
     "metadata": {},
     "output_type": "execute_result"
    }
   ],
   "source": [
    "user_name.isdigit()"
   ]
  },
  {
   "cell_type": "code",
   "execution_count": 12,
   "id": "74d48ae2",
   "metadata": {},
   "outputs": [
    {
     "name": "stdout",
     "output_type": "stream",
     "text": [
      "User name does not contain digits\n"
     ]
    }
   ],
   "source": [
    "if user_name.isdigit():\n",
    "    print(\"User name contains digits\")\n",
    "else:\n",
    "    print(\"User name does not contain digits\")"
   ]
  },
  {
   "cell_type": "code",
   "execution_count": 16,
   "id": "ae6d9653",
   "metadata": {},
   "outputs": [
    {
     "name": "stdout",
     "output_type": "stream",
     "text": [
      "Today is a sunny day\n"
     ]
    }
   ],
   "source": [
    "sentence = \"Today is a sunny day\"\n",
    "print(sentence)"
   ]
  },
  {
   "cell_type": "code",
   "execution_count": 15,
   "id": "fe65aadc",
   "metadata": {},
   "outputs": [
    {
     "name": "stdout",
     "output_type": "stream",
     "text": [
      "Today is a cloudy day\n"
     ]
    }
   ],
   "source": [
    "sentence2 = sentence.replace('sunny', 'cloudy')\n",
    "print(sentence2)"
   ]
  },
  {
   "cell_type": "code",
   "execution_count": 21,
   "id": "e281c250",
   "metadata": {},
   "outputs": [],
   "source": [
    "split_sen = sentence2.split()"
   ]
  },
  {
   "cell_type": "code",
   "execution_count": 22,
   "id": "674817c1",
   "metadata": {},
   "outputs": [
    {
     "name": "stdout",
     "output_type": "stream",
     "text": [
      "['Today', 'is', 'a', 'cloudy', 'day']\n"
     ]
    }
   ],
   "source": [
    "print(split_sen)"
   ]
  },
  {
   "cell_type": "code",
   "execution_count": 23,
   "id": "d76d871e",
   "metadata": {},
   "outputs": [
    {
     "name": "stdout",
     "output_type": "stream",
     "text": [
      "Today\n",
      "is\n",
      "a\n",
      "cloudy\n",
      "day\n"
     ]
    }
   ],
   "source": [
    "for word in split_sen:\n",
    "    print(word)"
   ]
  }
 ],
 "metadata": {
  "kernelspec": {
   "display_name": "Python 3 (ipykernel)",
   "language": "python",
   "name": "python3"
  },
  "language_info": {
   "codemirror_mode": {
    "name": "ipython",
    "version": 3
   },
   "file_extension": ".py",
   "mimetype": "text/x-python",
   "name": "python",
   "nbconvert_exporter": "python",
   "pygments_lexer": "ipython3",
   "version": "3.11.3"
  }
 },
 "nbformat": 4,
 "nbformat_minor": 5
}
