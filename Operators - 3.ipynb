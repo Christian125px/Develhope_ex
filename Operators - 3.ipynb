{
 "cells": [
  {
   "cell_type": "markdown",
   "id": "820ddcc1",
   "metadata": {},
   "source": [
    "## Operators - 3"
   ]
  },
  {
   "cell_type": "markdown",
   "id": "a858f086",
   "metadata": {},
   "source": [
    "#### Print the rest of the 5/2 division"
   ]
  },
  {
   "cell_type": "code",
   "execution_count": 3,
   "id": "da73e8dd",
   "metadata": {},
   "outputs": [],
   "source": [
    "rest = 5 % 2"
   ]
  },
  {
   "cell_type": "code",
   "execution_count": 4,
   "id": "b8251c36",
   "metadata": {},
   "outputs": [
    {
     "name": "stdout",
     "output_type": "stream",
     "text": [
      "The rest of the division between 5 and 2 is: 1\n"
     ]
    }
   ],
   "source": [
    "print(f\"The rest of the division between 5 and 2 is: {rest}\")"
   ]
  }
 ],
 "metadata": {
  "kernelspec": {
   "display_name": "Python 3 (ipykernel)",
   "language": "python",
   "name": "python3"
  },
  "language_info": {
   "codemirror_mode": {
    "name": "ipython",
    "version": 3
   },
   "file_extension": ".py",
   "mimetype": "text/x-python",
   "name": "python",
   "nbconvert_exporter": "python",
   "pygments_lexer": "ipython3",
   "version": "3.11.3"
  }
 },
 "nbformat": 4,
 "nbformat_minor": 5
}
