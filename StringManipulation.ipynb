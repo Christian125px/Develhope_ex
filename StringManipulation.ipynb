{
 "cells": [
  {
   "cell_type": "markdown",
   "metadata": {},
   "source": [
    "# String Manipulation - Exercise"
   ]
  },
  {
   "cell_type": "markdown",
   "metadata": {},
   "source": [
    "Create a string variable name\n",
    "Use string indexing to extract the first and last characters of the string.\n",
    "Use string slicing to extract the middle part of the string (e.g., \"middle\" from \"beginningmiddleend\").\n",
    "Concatenate two strings to create a new string.\n",
    "Use the len function to find the length of the string."
   ]
  },
  {
   "cell_type": "code",
   "execution_count": 1,
   "metadata": {},
   "outputs": [],
   "source": [
    "# Create a string variable name\n",
    "name = 'Christian'"
   ]
  },
  {
   "cell_type": "code",
   "execution_count": 2,
   "metadata": {},
   "outputs": [
    {
     "name": "stdout",
     "output_type": "stream",
     "text": [
      "First char of Christian is: C\n",
      "Last char of Christian is: n\n"
     ]
    }
   ],
   "source": [
    "# Use string indexing to extract the first and last characters of the string.\n",
    "first_char = name[0]\n",
    "last_char = name[-1]\n",
    "print(f\"First char of {name} is: {first_char}\")\n",
    "print(f\"Last char of {name} is: {last_char}\")"
   ]
  },
  {
   "cell_type": "code",
   "execution_count": 5,
   "metadata": {},
   "outputs": [
    {
     "name": "stdout",
     "output_type": "stream",
     "text": [
      "Middle of name: isti\n",
      "Middle of string: middle\n"
     ]
    }
   ],
   "source": [
    "# Use string slicing to extract the middle part of the string (e.g., \"middle\" from \"beginningmiddleend\").\n",
    "middle = name[3:7]\n",
    "print(\"Middle of name:\", middle)\n",
    "# note that: 3 is included and 7 is not\n",
    "\n",
    "# with the string given as an example:\n",
    "string = 'beginningmiddleend'\n",
    "middleof = string[9:15]\n",
    "print(\"Middle of string:\", middleof)"
   ]
  },
  {
   "cell_type": "code",
   "execution_count": 18,
   "metadata": {},
   "outputs": [
    {
     "name": "stdout",
     "output_type": "stream",
     "text": [
      "Concatenated String using + operator = Christianbeginningmiddleend\n",
      "Concatenated String using join() = Christianbeginningmiddleend\n",
      "String Concatenation using % Operator = Christianbeginningmiddleend\n",
      "String Concatenation using format() = Christianbeginningmiddleend\n",
      "String Concatenation using f-string = Christianbeginningmiddleend\n"
     ]
    }
   ],
   "source": [
    "# Concatenate two strings to create a new string.\n",
    "# String concatenation in python can be performed in different ways:\n",
    "\n",
    "# 1: Using + operator\n",
    "concat1 = name + string # we can add a space to separate the two strings + \" \" +\n",
    "print(\"Concatenated String using + operator =\", concat1)\n",
    "\n",
    "# 2: Using join() method\n",
    "concat2 = \"\".join([name, string]) # to separate the two strings we need to put a space inside \"\" like this \" \"\n",
    "print(\"Concatenated String using join() =\", concat2)\n",
    "\n",
    "# 3: Using % operator\n",
    "concat3 = \"%s%s\" % (name, string) # we can add a space putting it between the two %s\n",
    "print('String Concatenation using % Operator =', concat3)\n",
    "\n",
    "# 4: Using format() function\n",
    "concat4 = \"{}{}\".format(name, string) # we can add a space separeting the two curly braces like this: {} {}\n",
    "print('String Concatenation using format() =', concat4)\n",
    "\n",
    "# 5: Using f-string (Literal String Interpolation)\n",
    "concat5 = f\"{name}{string}\" # we can add a space doing the same as in format() function\n",
    "print('String Concatenation using f-string =', concat5)\n"
   ]
  },
  {
   "cell_type": "code",
   "execution_count": 19,
   "metadata": {},
   "outputs": [
    {
     "name": "stdout",
     "output_type": "stream",
     "text": [
      "The length of the string is: 27\n"
     ]
    }
   ],
   "source": [
    "# Use the len function to find the length of the string.\n",
    "length_of_the_string = len(concat1)\n",
    "print(f\"The length of the string is: {length_of_the_string}\")"
   ]
  }
 ],
 "metadata": {
  "kernelspec": {
   "display_name": "Python 3",
   "language": "python",
   "name": "python3"
  },
  "language_info": {
   "codemirror_mode": {
    "name": "ipython",
    "version": 3
   },
   "file_extension": ".py",
   "mimetype": "text/x-python",
   "name": "python",
   "nbconvert_exporter": "python",
   "pygments_lexer": "ipython3",
   "version": "3.11.3"
  },
  "orig_nbformat": 4
 },
 "nbformat": 4,
 "nbformat_minor": 2
}
