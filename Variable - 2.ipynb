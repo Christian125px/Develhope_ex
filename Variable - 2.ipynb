{
 "cells": [
  {
   "cell_type": "markdown",
   "id": "e9d35dbe",
   "metadata": {},
   "source": [
    "# Exercise 2 - Variables"
   ]
  },
  {
   "cell_type": "markdown",
   "id": "b3811c86",
   "metadata": {},
   "source": [
    "Create two variables called name and age. Then create a variable called hello and print the name and the age. Use the formatted string literal."
   ]
  },
  {
   "cell_type": "code",
   "execution_count": 5,
   "id": "a0679706",
   "metadata": {},
   "outputs": [],
   "source": [
    "name = 'Christian'\n",
    "age = 27\n",
    "hello = f\"My name is {name} and I'm {age} years old\""
   ]
  },
  {
   "cell_type": "code",
   "execution_count": 6,
   "id": "71cc3cea",
   "metadata": {},
   "outputs": [
    {
     "name": "stdout",
     "output_type": "stream",
     "text": [
      "My name is Christian and I'm 27 years old\n"
     ]
    }
   ],
   "source": [
    "print(hello)"
   ]
  }
 ],
 "metadata": {
  "kernelspec": {
   "display_name": "Python 3 (ipykernel)",
   "language": "python",
   "name": "python3"
  },
  "language_info": {
   "codemirror_mode": {
    "name": "ipython",
    "version": 3
   },
   "file_extension": ".py",
   "mimetype": "text/x-python",
   "name": "python",
   "nbconvert_exporter": "python",
   "pygments_lexer": "ipython3",
   "version": "3.11.3"
  }
 },
 "nbformat": 4,
 "nbformat_minor": 5
}
