{
 "cells": [
  {
   "cell_type": "markdown",
   "metadata": {},
   "source": [
    "# Undestanding Data Types - Exercise"
   ]
  },
  {
   "cell_type": "markdown",
   "metadata": {},
   "source": [
    "Create variables of different data types (integer, float, string, and boolean). \n",
    "Use the type function to print the type of each variable.\n",
    "Observe how the data type affects the output of certain operations, for example: • Adding two integers • Concatenating a string with a float • \n",
    "Comparing a string with a boolean."
   ]
  },
  {
   "cell_type": "code",
   "execution_count": 4,
   "metadata": {},
   "outputs": [],
   "source": [
    "# Create variables of different data types (integer, float, string, and boolean)\n",
    "\n",
    "integer_var = 1\n",
    "float_var = 1.2\n",
    "string_var = 'Ciao!'\n",
    "boolean_var = True"
   ]
  },
  {
   "cell_type": "code",
   "execution_count": 6,
   "metadata": {},
   "outputs": [
    {
     "name": "stdout",
     "output_type": "stream",
     "text": [
      "The type of integer_var is: <class 'int'>\n",
      "The type of float_var is: <class 'float'>\n",
      "The type of string_var is: <class 'str'>\n",
      "The type of boolean_var is: <class 'bool'>\n"
     ]
    }
   ],
   "source": [
    "# Use the type function to print the type of each variable\n",
    "\n",
    "print(\"The type of integer_var is:\", type(integer_var))\n",
    "print(\"The type of float_var is:\", type(float_var))\n",
    "print(\"The type of string_var is:\", type(string_var))\n",
    "print(\"The type of boolean_var is:\", type(boolean_var))"
   ]
  },
  {
   "cell_type": "code",
   "execution_count": 20,
   "metadata": {},
   "outputs": [
    {
     "name": "stdout",
     "output_type": "stream",
     "text": [
      "6\n",
      "Ciao!1.2\n",
      "Ciao!1.2\n",
      "Ciao!1.2\n",
      "True\n",
      "False\n",
      "True\n"
     ]
    }
   ],
   "source": [
    "# Observe how the data type affects the output of certain operations, for example: • Adding two integers • Concatenating a string with a float • \n",
    "# Comparing a string with a boolean\n",
    "\n",
    "print(3 + 3) #It normally executes the operation\n",
    "\n",
    "# string_var + float_var # Concatenating a string with a float in this way returns a TypeError\n",
    "# In order to solve this problem we need to execute the casting to string of the float variable using str() function\n",
    "# We can also use the format() operator or the f string which automatically execute the variable casting to str:\n",
    "print(string_var + str(float_var))\n",
    "print(f\"{string_var}{float_var}\")\n",
    "print(\"{}{}\".format(string_var, float_var))\n",
    "\n",
    "# string_var > boolean_var # comparing a string with a boolean in this way returns again a TypeError\n",
    "# we can solve this problem executing a variable casting\n",
    "\n",
    "print(bool(string_var) == boolean_var) # It returns True since the bool casting of a non empty string returns True \n",
    "                                       # which is equal to the current boolean_var value\n",
    "print(string_var == str(boolean_var))  # it returns False since the string \"Ciao!\" is different from the string \"True\"\n"
   ]
  }
 ],
 "metadata": {
  "kernelspec": {
   "display_name": "Python 3",
   "language": "python",
   "name": "python3"
  },
  "language_info": {
   "codemirror_mode": {
    "name": "ipython",
    "version": 3
   },
   "file_extension": ".py",
   "mimetype": "text/x-python",
   "name": "python",
   "nbconvert_exporter": "python",
   "pygments_lexer": "ipython3",
   "version": "3.11.3"
  },
  "orig_nbformat": 4
 },
 "nbformat": 4,
 "nbformat_minor": 2
}
