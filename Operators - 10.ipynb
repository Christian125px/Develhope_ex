{
 "cells": [
  {
   "cell_type": "markdown",
   "id": "9f048ec8",
   "metadata": {},
   "source": [
    "## Operators - 10"
   ]
  },
  {
   "cell_type": "markdown",
   "id": "79d9c0a7",
   "metadata": {},
   "source": [
    "Given a string sentence = \"The quick brown fox jumps over the lazy dog.\", calculate and print the number of vowels in the sentence.\n",
    "Given a list numbers = [1, 2, 3, 4, 5, 6, 7, 8, 9, 10], create and print a new list that contains only the odd numbers.\n",
    "Given a list mixed = [1, \"apple\", 3, \"banana\", 5, \"cherry\"], create and print two separate lists, one containing the numbers and one containing the strings."
   ]
  },
  {
   "cell_type": "code",
   "execution_count": 1,
   "id": "a616d408",
   "metadata": {},
   "outputs": [
    {
     "name": "stdout",
     "output_type": "stream",
     "text": [
      "The number of vowels in the sentence is: 11\n",
      "Number of vowels using the count() function: 11\n"
     ]
    }
   ],
   "source": [
    "# Given a string sentence = \"The quick brown fox jumps over the lazy dog.\", calculate and print the number of vowels in the sentence.\n",
    "\n",
    "sentence = \"The quick brown fox jumps over the lazy dog.\"\n",
    "vowels = \"aeiouAEIOU\"\n",
    "count = 0\n",
    "\n",
    "for char in sentence:\n",
    "    if char in vowels:\n",
    "        count += 1\n",
    "\n",
    "print(\"The number of vowels in the sentence is:\", count)\n",
    "\n",
    "# it's even possible to use the count() function:\n",
    "num_of_vowels = sentence.count('a') + sentence.count('e') + sentence.count('i') + sentence.count('o') + sentence.count('u')\n",
    "print(\"Number of vowels using the count() function:\", num_of_vowels)\n",
    "# this solution is less elegant but still works. \n",
    "# It could be useful to use the lower() function before using the count()\n",
    "# in this way if a sentence starts with a capital vowel or contains uppercase vowels they will be counted (1)\n",
    "# otherwise we should use the count function indicating lowercase and uppercase vowels(2):\n",
    "# (1)\n",
    "# sentence = sentence.lower()\n",
    "# num_of_vowels = sentence.count('a') + sentence.count('e') + sentence.count('i') + sentence.count('o') + sentence.count('u')\n",
    "# (2)\n",
    "# num_of_vowels = sentence.count('a') + sentence.count('e') + sentence.count('i') + sentence.count('o') + sentence.count('u') + \n",
    "# sentence.count('A') + sentence.count('E') + sentence.count('I') + sentence.count('O') + sentence.count('U')\n"
   ]
  },
  {
   "cell_type": "code",
   "execution_count": 2,
   "id": "07ffa064",
   "metadata": {},
   "outputs": [
    {
     "name": "stdout",
     "output_type": "stream",
     "text": [
      "[1, 3, 5, 7, 9]\n"
     ]
    }
   ],
   "source": [
    "# Given a list numbers = [1, 2, 3, 4, 5, 6, 7, 8, 9, 10], create and print a new list that contains only the odd numbers.\n",
    "\n",
    "numbers = [1, 2, 3, 4, 5, 6, 7, 8, 9, 10]\n",
    "odd_numbers = []\n",
    "\n",
    "for number in numbers:\n",
    "    if number % 2 != 0:\n",
    "        odd_numbers.append(number)\n",
    "\n",
    "print(odd_numbers)"
   ]
  },
  {
   "cell_type": "code",
   "execution_count": 3,
   "id": "e360a2e0",
   "metadata": {},
   "outputs": [
    {
     "name": "stdout",
     "output_type": "stream",
     "text": [
      "[1, 3, 5]\n",
      "['apple', 'banana', 'cherry']\n"
     ]
    }
   ],
   "source": [
    "# Given a list mixed = [1, \"apple\", 3, \"banana\", 5, \"cherry\"], \n",
    "# create and print two separate lists, one containing the numbers and one containing the strings.\n",
    "\n",
    "mixed = [1, \"apple\", 3, \"banana\", 5, \"cherry\"]\n",
    "numbers = []\n",
    "strings = []\n",
    "\n",
    "for item in mixed:\n",
    "    if isinstance(item, int):\n",
    "        numbers.append(item)\n",
    "    else:\n",
    "        strings.append(item)\n",
    "\n",
    "print(numbers)\n",
    "print(strings)"
   ]
  },
  {
   "cell_type": "markdown",
   "id": "3e7f2a0e",
   "metadata": {},
   "source": [
    "These last two exercises can be done using string slicing, the solution is much less appealing and not automatized"
   ]
  }
 ],
 "metadata": {
  "kernelspec": {
   "display_name": "Python 3 (ipykernel)",
   "language": "python",
   "name": "python3"
  },
  "language_info": {
   "codemirror_mode": {
    "name": "ipython",
    "version": 3
   },
   "file_extension": ".py",
   "mimetype": "text/x-python",
   "name": "python",
   "nbconvert_exporter": "python",
   "pygments_lexer": "ipython3",
   "version": "3.11.3"
  }
 },
 "nbformat": 4,
 "nbformat_minor": 5
}
