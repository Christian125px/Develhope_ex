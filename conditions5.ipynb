{
 "cells": [
  {
   "cell_type": "markdown",
   "metadata": {},
   "source": [
    "# Exercise - Conditions 5"
   ]
  },
  {
   "cell_type": "markdown",
   "metadata": {},
   "source": [
    "Create a variable called age and assign the value 20 to it. Then write an if statement that prints \"You are a teenager\" if the value of age is less than 18, and \"You are an adult\" if the value of age is equal to or greater than 18.\n",
    "Create two variables called name and city. Then write an if statement that prints \"You are from [city]\" if the value of name is equal to \"John\" or \"Jane\", and \"You are not from [city]\" if the value of name is anything else.\n",
    "Create a variable called password and assign a value to it. Then write an if statement that checks if the length of password is less than 6 characters. If it is, then print \"The password is too short\". Otherwise, print \"The password is long enough\".\n",
    "Create a variable called number and assign a value to it. Then write an if statement that checks if number is positive, negative, or zero. If it is positive, print \"The number is positive\". If it is negative, print \"The number is negative\". If it is zero, print \"The number is zero\".\n",
    "Create two variables called x and y. Then write an if statement that prints \"x is greater than y\" if x is greater than y, and \"y is greater than x\" if y is greater than x.\n",
    "Create two variables called a and b. Then write an if statement that prints \"a is equal to b\" if a is equal to b, and \"a is not equal to"
   ]
  },
  {
   "cell_type": "code",
   "execution_count": 1,
   "metadata": {},
   "outputs": [
    {
     "name": "stdout",
     "output_type": "stream",
     "text": [
      "You are an adult\n"
     ]
    }
   ],
   "source": [
    "# Create a variable called age and assign the value 20 to it. \n",
    "# Then write an if statement that prints \n",
    "# \"You are a teenager\" if the value of age is less than 18, and \"You are an adult\" if the value of age is equal to or greater than 18.\n",
    "\n",
    "age = 20\n",
    "\n",
    "if age < 18: print(\"You are a teenager\")\n",
    "else: print(\"You are an adult\")"
   ]
  },
  {
   "cell_type": "code",
   "execution_count": 5,
   "metadata": {},
   "outputs": [
    {
     "name": "stdout",
     "output_type": "stream",
     "text": [
      "You are from Utah\n"
     ]
    }
   ],
   "source": [
    "# Create two variables called name and city. \n",
    "# Then write an if statement that prints \n",
    "# \"You are from [city]\" if the value of name is equal to \"John\" or \"Jane\", and \"You are not from [city]\" if the value of name is anything else.\n",
    "\n",
    "name = 'John'\n",
    "city = 'Utah'\n",
    "\n",
    "if name == 'John' or name == 'Jane': print(f\"You are from {city}\")\n",
    "else: print(f\"You are not from {city}\")"
   ]
  },
  {
   "cell_type": "code",
   "execution_count": 10,
   "metadata": {},
   "outputs": [
    {
     "name": "stdout",
     "output_type": "stream",
     "text": [
      "The password is long enough\n"
     ]
    }
   ],
   "source": [
    "# Create a variable called password and assign a value to it. \n",
    "# Then write an if statement that checks if the length of password is less than 6 characters. \n",
    "# If it is, then print \"The password is too short\". Otherwise, print \"The password is long enough\".\n",
    "\n",
    "password = '123456'\n",
    "\n",
    "if len(password) < 6: print(\"The password is too short\")\n",
    "else: print(\"The password is long enough\")"
   ]
  },
  {
   "cell_type": "code",
   "execution_count": 13,
   "metadata": {},
   "outputs": [
    {
     "name": "stdout",
     "output_type": "stream",
     "text": [
      "The number is zero\n"
     ]
    }
   ],
   "source": [
    "# Create a variable called number and assign a value to it. \n",
    "# Then write an if statement that checks if number is positive, negative, or zero. \n",
    "# If it is positive, print \"The number is positive\". If it is negative, print \"The number is negative\". If it is zero, print \"The number is zero\".\n",
    "\n",
    "number = 0\n",
    "\n",
    "if number > 0: print(\"The number is positive\")\n",
    "elif number < 0: print(\"The number is negative\")\n",
    "else: print(\"The number is zero\")"
   ]
  },
  {
   "cell_type": "code",
   "execution_count": 16,
   "metadata": {},
   "outputs": [
    {
     "name": "stdout",
     "output_type": "stream",
     "text": [
      "x is greater than y\n"
     ]
    }
   ],
   "source": [
    "# Create two variables called x and y. \n",
    "# Then write an if statement that prints \"x is greater than y\" if x is greater than y, and \"y is greater than x\" if y is greater than x.\n",
    "\n",
    "x = 3\n",
    "y = 2\n",
    "\n",
    "if x > y: print(\"x is greater than y\")\n",
    "elif x < y: print(\"y is greater than x\")\n",
    "else: print(\"x and y are equal\")"
   ]
  },
  {
   "cell_type": "code",
   "execution_count": 18,
   "metadata": {},
   "outputs": [
    {
     "name": "stdout",
     "output_type": "stream",
     "text": [
      "a is equal to b\n"
     ]
    }
   ],
   "source": [
    "# Create two variables called a and b. \n",
    "# Then write an if statement that prints \"a is equal to b\" if a is equal to b, and \"a and b are not equal\" else\n",
    "\n",
    "a = 4\n",
    "b = 4\n",
    "\n",
    "if a == b: print(\"a is equal to b\")\n",
    "else: print(\"a and b are not equal\")"
   ]
  }
 ],
 "metadata": {
  "kernelspec": {
   "display_name": "Python 3",
   "language": "python",
   "name": "python3"
  },
  "language_info": {
   "codemirror_mode": {
    "name": "ipython",
    "version": 3
   },
   "file_extension": ".py",
   "mimetype": "text/x-python",
   "name": "python",
   "nbconvert_exporter": "python",
   "pygments_lexer": "ipython3",
   "version": "3.11.3"
  },
  "orig_nbformat": 4
 },
 "nbformat": 4,
 "nbformat_minor": 2
}
