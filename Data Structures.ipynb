{
 "cells": [
  {
   "cell_type": "markdown",
   "metadata": {},
   "source": [
    "# Data Structures 🐍\n",
    "\n",
    "Remember `list`, `set`, `dictionary` are mutable and `tuple` is immutable\n",
    "`list`, `tuple` elements can be reached by index  \n",
    "for `dictionary` it is not an option to reach by index the element key has to be known to reach  \n",
    "and for `set` the items cannot be reached directly but it is possible to iterate.\n",
    "\n",
    "1. print the lengths of `list1`, `tuple1`, `set1`,` dict1`\n",
    "2. print the first element of `list1` and `tuple1`\n",
    "3. print the value of `lion` key of `dict1`\n",
    "4. change the 2nd position element of `list1` to \"rabbit\"\n",
    "5. try to change the 2nd position element of the tuple to \"rabbit\" and explain what happened.\n",
    "6. add \"monkey\" to `list1`\n",
    "7. remove \"rabbit\" from `list1`\n",
    "8. in `dict1` the number of feet is written as value to each animal the fish has wrong value just fix it."
   ]
  },
  {
   "cell_type": "code",
   "execution_count": 31,
   "metadata": {},
   "outputs": [],
   "source": [
    "list1 = [\"lion\", \"monkey\", \"dog\",\"fish\"]\n",
    "tuple1 = (\"lion\", \"monkey\", \"dog\",\"fish\")\n",
    "set1 = {\"lion\", \"monkey\", \"dog\",\"fish\"}\n",
    "dict1 = {\"lion\":4, \"monkey\":2, \"dog\":4,\"fish\":2}"
   ]
  },
  {
   "cell_type": "code",
   "execution_count": 3,
   "metadata": {},
   "outputs": [
    {
     "name": "stdout",
     "output_type": "stream",
     "text": [
      "The lengths of list1, tuple1, set1, dict1 rispectively are: 4, 4, 4, 4\n"
     ]
    }
   ],
   "source": [
    "# 1. print the lengths of `list1`,`tuple1`,`set1`,`dict1`\n",
    "print(f\"The lengths of list1, tuple1, set1, dict1 rispectively are: {len(list1)}, {len(tuple1)}, {len(set1)}, {len(dict1)}\")"
   ]
  },
  {
   "cell_type": "code",
   "execution_count": 5,
   "metadata": {},
   "outputs": [
    {
     "name": "stdout",
     "output_type": "stream",
     "text": [
      "First element of list1 is 'lion' and first element of tuple1 is 'lion'\n"
     ]
    }
   ],
   "source": [
    "# 2. print the first element of `list1` and `tuple1`\n",
    "\n",
    "print(f\"First element of list1 is '{list1[0]}' and first element of tuple1 is '{tuple1[0]}'\")"
   ]
  },
  {
   "cell_type": "code",
   "execution_count": 11,
   "metadata": {},
   "outputs": [
    {
     "name": "stdout",
     "output_type": "stream",
     "text": [
      "The value associated to the 'lion' key is: 4\n"
     ]
    }
   ],
   "source": [
    "# 3. print the value of `lion` key of `dict1`\n",
    "\n",
    "print(f\"The value associated to the 'lion' key is: {dict1['lion']}\")"
   ]
  },
  {
   "cell_type": "code",
   "execution_count": 32,
   "metadata": {},
   "outputs": [
    {
     "data": {
      "text/plain": [
       "['lion', 'rabbit', 'dog', 'fish']"
      ]
     },
     "execution_count": 32,
     "metadata": {},
     "output_type": "execute_result"
    }
   ],
   "source": [
    "# 4. change the 2nd position element of `list1` to \"rabbit\"\n",
    "\n",
    "list1[1] = 'rabbit' # 2nd position = index 1\n",
    "list1"
   ]
  },
  {
   "cell_type": "code",
   "execution_count": 33,
   "metadata": {},
   "outputs": [
    {
     "ename": "TypeError",
     "evalue": "'tuple' object does not support item assignment",
     "output_type": "error",
     "traceback": [
      "\u001b[1;31m---------------------------------------------------------------------------\u001b[0m",
      "\u001b[1;31mTypeError\u001b[0m                                 Traceback (most recent call last)",
      "Cell \u001b[1;32mIn[33], line 3\u001b[0m\n\u001b[0;32m      1\u001b[0m \u001b[39m# 5. try to change the 2nd position element of the tuple to \"rabbit\" and explain what happened.\u001b[39;00m\n\u001b[1;32m----> 3\u001b[0m tuple1[\u001b[39m1\u001b[39;49m] \u001b[39m=\u001b[39m \u001b[39m'\u001b[39m\u001b[39mrabbit\u001b[39m\u001b[39m'\u001b[39m\n\u001b[0;32m      4\u001b[0m tuple1\n",
      "\u001b[1;31mTypeError\u001b[0m: 'tuple' object does not support item assignment"
     ]
    }
   ],
   "source": [
    "# 5. try to change the 2nd position element of the tuple to \"rabbit\" and explain what happened.\n",
    "\n",
    "tuple1[1] = 'rabbit'\n",
    "tuple1"
   ]
  },
  {
   "cell_type": "markdown",
   "metadata": {},
   "source": [
    "The previous operation we were trying to do on tuple1 returns an error since tuples ar immutable objects.\n",
    "The error we get is a TypeError having the following indication: 'tuple' object does not support item assignment.\n",
    "This is the crucial difference between tuples and lists."
   ]
  },
  {
   "cell_type": "code",
   "execution_count": 34,
   "metadata": {},
   "outputs": [
    {
     "data": {
      "text/plain": [
       "['lion', 'rabbit', 'dog', 'fish', 'monkey']"
      ]
     },
     "execution_count": 34,
     "metadata": {},
     "output_type": "execute_result"
    }
   ],
   "source": [
    "# add \"monkey\" to `list1`\n",
    "\n",
    "list1 = list1 + ['monkey'] \n",
    "list1\n",
    "\n",
    "# we could also use the .append() method to obtain the same result\n",
    "# list1.append('monkey')"
   ]
  },
  {
   "cell_type": "code",
   "execution_count": 35,
   "metadata": {},
   "outputs": [
    {
     "name": "stdout",
     "output_type": "stream",
     "text": [
      "['lion', 'dog', 'fish', 'monkey']\n"
     ]
    }
   ],
   "source": [
    "# remove \"rabbit\" from `list1`\n",
    "list1.remove('rabbit')\n",
    "print(list1)"
   ]
  },
  {
   "cell_type": "code",
   "execution_count": 38,
   "metadata": {},
   "outputs": [
    {
     "data": {
      "text/plain": [
       "{'lion': 4, 'monkey': 2, 'dog': 4, 'fish': 0}"
      ]
     },
     "execution_count": 38,
     "metadata": {},
     "output_type": "execute_result"
    }
   ],
   "source": [
    "# 8. in `dict1` the number of feet is written as value to each animal the fish has wrong value just fix it.\n",
    "dict1['fish'] = 0\n",
    "dict1"
   ]
  }
 ],
 "metadata": {
  "kernelspec": {
   "display_name": "Python 3",
   "language": "python",
   "name": "python3"
  },
  "language_info": {
   "codemirror_mode": {
    "name": "ipython",
    "version": 3
   },
   "file_extension": ".py",
   "mimetype": "text/x-python",
   "name": "python",
   "nbconvert_exporter": "python",
   "pygments_lexer": "ipython3",
   "version": "3.11.3"
  },
  "orig_nbformat": 4
 },
 "nbformat": 4,
 "nbformat_minor": 2
}
