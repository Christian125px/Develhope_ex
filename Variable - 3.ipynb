{
 "cells": [
  {
   "cell_type": "markdown",
   "id": "5253cd09",
   "metadata": {},
   "source": [
    "# Exercise 3 - Variables"
   ]
  },
  {
   "cell_type": "markdown",
   "id": "5e98d353",
   "metadata": {},
   "source": [
    "Creating variables for your name, age, and city of residence.\n",
    "Using string concatenation to display a sentence about yourself using the above variables.\n",
    "Modifying the variables to add a title (Mr. or Ms.) in front of your name.\n",
    "Using the string format method to display the same sentence as in exercise 2.\n",
    "Create a variable called \"name\" and assign a string value to it and “age\" and assign an integer value to it, and Create a variable called \"height\" and assign a floating point value to it, and Create a variable called \"is_student\" and assign a boolean value to it.\n",
    "Print the type of each of variables from exercise 5 using format method or f string."
   ]
  },
  {
   "cell_type": "code",
   "execution_count": 1,
   "id": "7da79272",
   "metadata": {},
   "outputs": [],
   "source": [
    "# Creating variables\n",
    "name = 'Christian'\n",
    "age = 27\n",
    "city = 'Ischia'"
   ]
  },
  {
   "cell_type": "code",
   "execution_count": 2,
   "id": "4f476119",
   "metadata": {},
   "outputs": [
    {
     "name": "stdout",
     "output_type": "stream",
     "text": [
      "My name is Christian, I'm 27 years old and I live in Ischia.\n"
     ]
    }
   ],
   "source": [
    "# Using string concatenation\n",
    "sentence = \"My name is \" + name + \", I'm \" + str(age) + \" years old and I live in \" + city + \".\"\n",
    "print(sentence)"
   ]
  },
  {
   "cell_type": "code",
   "execution_count": 3,
   "id": "30897429",
   "metadata": {},
   "outputs": [],
   "source": [
    "# Modifying the variables\n",
    "name = \"Mr. \" + name"
   ]
  },
  {
   "cell_type": "code",
   "execution_count": 6,
   "id": "f6b2c858",
   "metadata": {},
   "outputs": [],
   "source": [
    "# Using the string format method\n",
    "sentence = f\"My name is {name}, I'm {age} years old and I live in {city}.\""
   ]
  },
  {
   "cell_type": "code",
   "execution_count": 7,
   "id": "bbe41f45",
   "metadata": {},
   "outputs": [
    {
     "name": "stdout",
     "output_type": "stream",
     "text": [
      "My name is Mr. Christian, I'm 27 years old and I live in Ischia.\n"
     ]
    }
   ],
   "source": [
    "print(sentence)"
   ]
  },
  {
   "cell_type": "code",
   "execution_count": 8,
   "id": "73f3340b",
   "metadata": {},
   "outputs": [],
   "source": [
    "# another way could be:\n",
    "sentence2 = \"My name is {}, I'm {} years old and I live in {}.\".format(name, age, city)"
   ]
  },
  {
   "cell_type": "code",
   "execution_count": 9,
   "id": "81171f25",
   "metadata": {},
   "outputs": [
    {
     "name": "stdout",
     "output_type": "stream",
     "text": [
      "My name is Mr. Christian, I'm 27 years old and I live in Ischia.\n"
     ]
    }
   ],
   "source": [
    "print(sentence2)"
   ]
  },
  {
   "cell_type": "code",
   "execution_count": 10,
   "id": "007814d3",
   "metadata": {},
   "outputs": [],
   "source": [
    "# Creating new variables\n",
    "name2 = 'Chris'\n",
    "age2 = 27\n",
    "height = 165.5\n",
    "is_student = True"
   ]
  },
  {
   "cell_type": "code",
   "execution_count": 13,
   "id": "b316114c",
   "metadata": {},
   "outputs": [
    {
     "name": "stdout",
     "output_type": "stream",
     "text": [
      "name2 is of type: <class 'str'>\n"
     ]
    }
   ],
   "source": [
    "print(f\"name2 is of type: {type(name2)}\")"
   ]
  },
  {
   "cell_type": "code",
   "execution_count": 14,
   "id": "db7df503",
   "metadata": {},
   "outputs": [
    {
     "name": "stdout",
     "output_type": "stream",
     "text": [
      "age2 is of type: <class 'int'>\n"
     ]
    }
   ],
   "source": [
    "print(f\"age2 is of type: {type(age2)}\")"
   ]
  },
  {
   "cell_type": "code",
   "execution_count": 15,
   "id": "3066693c",
   "metadata": {},
   "outputs": [
    {
     "name": "stdout",
     "output_type": "stream",
     "text": [
      "height is of type: <class 'float'>\n"
     ]
    }
   ],
   "source": [
    "print(f\"height is of type: {type(height)}\")"
   ]
  },
  {
   "cell_type": "code",
   "execution_count": 16,
   "id": "568417ed",
   "metadata": {},
   "outputs": [
    {
     "name": "stdout",
     "output_type": "stream",
     "text": [
      "is_student is of type: <class 'bool'>\n"
     ]
    }
   ],
   "source": [
    "print(f\"is_student is of type: {type(is_student)}\")"
   ]
  }
 ],
 "metadata": {
  "kernelspec": {
   "display_name": "Python 3 (ipykernel)",
   "language": "python",
   "name": "python3"
  },
  "language_info": {
   "codemirror_mode": {
    "name": "ipython",
    "version": 3
   },
   "file_extension": ".py",
   "mimetype": "text/x-python",
   "name": "python",
   "nbconvert_exporter": "python",
   "pygments_lexer": "ipython3",
   "version": "3.11.3"
  }
 },
 "nbformat": 4,
 "nbformat_minor": 5
}
