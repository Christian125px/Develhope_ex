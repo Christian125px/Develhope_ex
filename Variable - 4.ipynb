{
 "cells": [
  {
   "cell_type": "markdown",
   "id": "2348f114",
   "metadata": {},
   "source": [
    "# Exercise 4 - Variables"
   ]
  },
  {
   "cell_type": "markdown",
   "id": "ebd798b7",
   "metadata": {},
   "source": [
    "Using input() to ask the user for their name, age, and city of residence.\n",
    "Using variables to store the user's input and display a sentence about the user.\n",
    "Implementing the upper() and lower() methods to change the case of the variables.\n",
    "Using the len() function to find the length of each string and display it.\n",
    "Create two variables \"first_name\" and \"last_name\" and combine them to form a full name string.\n",
    "Create a variable \"fav_language\" and assign a string value to it. Then, create a sentence that states your favorite programming language.\n",
    "Create a variable \"current_year\" and assign the current year as an integer value. Then, create another variable \"birth_year\" and assign a year of birth as an integer value. Calculate and print the age of the person.\n",
    "Create a variable \"sentence\" and assign a string value to it. Print the number of characters in the sentence."
   ]
  },
  {
   "cell_type": "code",
   "execution_count": 3,
   "id": "ead38361",
   "metadata": {},
   "outputs": [
    {
     "name": "stdout",
     "output_type": "stream",
     "text": [
      "Please enter your name: Christian\n",
      "Please enter your age: 27\n",
      "Please enter your city: Ischia\n",
      "The current user is Christian, is 27 years old and is from Ischia\n"
     ]
    }
   ],
   "source": [
    "name = input(\"Please enter your name: \")\n",
    "age = input(\"Please enter your age: \")\n",
    "city = input(\"Please enter your city: \")\n",
    "sentence = f\"The current user name is {name}, is {age} years old and is from {city}\"\n",
    "print(sentence)"
   ]
  },
  {
   "cell_type": "code",
   "execution_count": 6,
   "id": "92dd5791",
   "metadata": {},
   "outputs": [
    {
     "data": {
      "text/plain": [
       "'CHRISTIAN'"
      ]
     },
     "execution_count": 6,
     "metadata": {},
     "output_type": "execute_result"
    }
   ],
   "source": [
    "name.upper()"
   ]
  },
  {
   "cell_type": "code",
   "execution_count": 7,
   "id": "17cd0371",
   "metadata": {},
   "outputs": [
    {
     "data": {
      "text/plain": [
       "'ISCHIA'"
      ]
     },
     "execution_count": 7,
     "metadata": {},
     "output_type": "execute_result"
    }
   ],
   "source": [
    "city.upper()"
   ]
  },
  {
   "cell_type": "code",
   "execution_count": 21,
   "id": "c882fb06",
   "metadata": {},
   "outputs": [
    {
     "data": {
      "text/plain": [
       "'THE CURRENT USER IS CHRISTIAN, IS 27 YEARS OLD AND IS FROM ISCHIA'"
      ]
     },
     "execution_count": 21,
     "metadata": {},
     "output_type": "execute_result"
    }
   ],
   "source": [
    "sentence.upper()"
   ]
  },
  {
   "cell_type": "code",
   "execution_count": 8,
   "id": "fed96627",
   "metadata": {},
   "outputs": [
    {
     "data": {
      "text/plain": [
       "'christian'"
      ]
     },
     "execution_count": 8,
     "metadata": {},
     "output_type": "execute_result"
    }
   ],
   "source": [
    "name.lower()"
   ]
  },
  {
   "cell_type": "code",
   "execution_count": 9,
   "id": "baa68a16",
   "metadata": {},
   "outputs": [
    {
     "data": {
      "text/plain": [
       "'ischia'"
      ]
     },
     "execution_count": 9,
     "metadata": {},
     "output_type": "execute_result"
    }
   ],
   "source": [
    "city.lower()"
   ]
  },
  {
   "cell_type": "code",
   "execution_count": 22,
   "id": "7190fe25",
   "metadata": {},
   "outputs": [
    {
     "data": {
      "text/plain": [
       "'the current user is christian, is 27 years old and is from ischia'"
      ]
     },
     "execution_count": 22,
     "metadata": {},
     "output_type": "execute_result"
    }
   ],
   "source": [
    "sentence.lower()"
   ]
  },
  {
   "cell_type": "code",
   "execution_count": 14,
   "id": "0656f152",
   "metadata": {},
   "outputs": [
    {
     "data": {
      "text/plain": [
       "9"
      ]
     },
     "execution_count": 14,
     "metadata": {},
     "output_type": "execute_result"
    }
   ],
   "source": [
    "len(name)"
   ]
  },
  {
   "cell_type": "code",
   "execution_count": 17,
   "id": "fa40a89b",
   "metadata": {},
   "outputs": [
    {
     "data": {
      "text/plain": [
       "2"
      ]
     },
     "execution_count": 17,
     "metadata": {},
     "output_type": "execute_result"
    }
   ],
   "source": [
    "len(age)"
   ]
  },
  {
   "cell_type": "code",
   "execution_count": 18,
   "id": "f1a03dbd",
   "metadata": {},
   "outputs": [
    {
     "data": {
      "text/plain": [
       "6"
      ]
     },
     "execution_count": 18,
     "metadata": {},
     "output_type": "execute_result"
    }
   ],
   "source": [
    "len(city)"
   ]
  },
  {
   "cell_type": "code",
   "execution_count": 20,
   "id": "76e4942f",
   "metadata": {},
   "outputs": [
    {
     "data": {
      "text/plain": [
       "65"
      ]
     },
     "execution_count": 20,
     "metadata": {},
     "output_type": "execute_result"
    }
   ],
   "source": [
    "len(sentence)"
   ]
  },
  {
   "cell_type": "code",
   "execution_count": 34,
   "id": "79e0acec",
   "metadata": {},
   "outputs": [],
   "source": [
    "first_name = 'Christian'\n",
    "last_name = 'Buono'\n",
    "full_name = f\"{first_name} {last_name}\""
   ]
  },
  {
   "cell_type": "code",
   "execution_count": 35,
   "id": "70add29a",
   "metadata": {},
   "outputs": [
    {
     "name": "stdout",
     "output_type": "stream",
     "text": [
      "Christian Buono\n"
     ]
    }
   ],
   "source": [
    "print(full_name)"
   ]
  },
  {
   "cell_type": "code",
   "execution_count": 42,
   "id": "4533d456",
   "metadata": {},
   "outputs": [
    {
     "name": "stdout",
     "output_type": "stream",
     "text": [
      "The user favorite programming language is Python\n"
     ]
    }
   ],
   "source": [
    "fav_language1 = 'Python'\n",
    "new_sentence = f\"The user favorite programming language is {fav_language1}\"\n",
    "print(new_sentence)"
   ]
  },
  {
   "cell_type": "code",
   "execution_count": 41,
   "id": "8ecc99f1",
   "metadata": {},
   "outputs": [
    {
     "name": "stdout",
     "output_type": "stream",
     "text": [
      "Please enter your favorite programming language: Java\n",
      "The user favorite programming language is Java\n"
     ]
    }
   ],
   "source": [
    "fav_language2 = input('Please enter your favorite programming language: ')\n",
    "sentence2 = f\"The user favorite programming language is {fav_language2}\"\n",
    "print(sentence2)"
   ]
  },
  {
   "cell_type": "code",
   "execution_count": 43,
   "id": "493e0ca0",
   "metadata": {},
   "outputs": [
    {
     "name": "stdout",
     "output_type": "stream",
     "text": [
      "28\n"
     ]
    }
   ],
   "source": [
    "current_year = 2023\n",
    "birth_year = 1995\n",
    "age_found = current_year - birth_year\n",
    "print(age_found)"
   ]
  },
  {
   "cell_type": "code",
   "execution_count": 47,
   "id": "b25fc0ba",
   "metadata": {},
   "outputs": [
    {
     "name": "stdout",
     "output_type": "stream",
     "text": [
      "Length of the sentence: 91\n"
     ]
    }
   ],
   "source": [
    "creative_sentence = \"Hello there! Welcome to Develhope Python Crash Course. We hope you're enjoying our lessons!\"\n",
    "print(f\"Length of the sentence: {len(creative_sentence)}\")"
   ]
  }
 ],
 "metadata": {
  "kernelspec": {
   "display_name": "Python 3 (ipykernel)",
   "language": "python",
   "name": "python3"
  },
  "language_info": {
   "codemirror_mode": {
    "name": "ipython",
    "version": 3
   },
   "file_extension": ".py",
   "mimetype": "text/x-python",
   "name": "python",
   "nbconvert_exporter": "python",
   "pygments_lexer": "ipython3",
   "version": "3.11.3"
  }
 },
 "nbformat": 4,
 "nbformat_minor": 5
}
