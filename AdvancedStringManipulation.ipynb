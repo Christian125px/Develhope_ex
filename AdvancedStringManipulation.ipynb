{
 "cells": [
  {
   "cell_type": "markdown",
   "metadata": {},
   "source": [
    "# Advanced String Manipulation - Exercise"
   ]
  },
  {
   "cell_type": "markdown",
   "metadata": {},
   "source": [
    "Create a string variable quote.\n",
    "Use string slicing to extract a specific word from the string (e.g., \"is\" from \"This is a quote.\")\n",
    "Use string methods to change the case of the string (e.g., upper, lower, title).\n",
    "Use string methods to remove specific characters from the string (e.g., replace, strip)\n",
    "Use string formatting to insert a variable into the string (e.g., {})."
   ]
  },
  {
   "cell_type": "code",
   "execution_count": 2,
   "metadata": {},
   "outputs": [],
   "source": [
    "# Create a string variable quote.\n",
    "quote = \"This is a quote\""
   ]
  },
  {
   "cell_type": "code",
   "execution_count": 5,
   "metadata": {},
   "outputs": [
    {
     "name": "stdout",
     "output_type": "stream",
     "text": [
      "is\n"
     ]
    },
    {
     "data": {
      "text/plain": [
       "2"
      ]
     },
     "execution_count": 5,
     "metadata": {},
     "output_type": "execute_result"
    }
   ],
   "source": [
    "# Use string slicing to extract a specific word from the string (e.g., \"is\" from \"This is a quote.\")\n",
    "part_of_the_quote = quote[5:7]\n",
    "print(part_of_the_quote)\n",
    "len(part_of_the_quote) #checking if I have extracted only the word 'is' without the space after it"
   ]
  },
  {
   "cell_type": "code",
   "execution_count": 7,
   "metadata": {},
   "outputs": [
    {
     "name": "stdout",
     "output_type": "stream",
     "text": [
      "Upper case quote: THIS IS A QUOTE\n",
      "Lower case quote: this is a quote\n",
      "Title quote: This Is A Quote\n"
     ]
    }
   ],
   "source": [
    "# Use string methods to change the case of the string (e.g., upper, lower, title).\n",
    "print(\"Upper case quote:\", quote.upper())\n",
    "print(\"Lower case quote:\",quote.lower())\n",
    "print(\"Title quote:\",quote.title())\n",
    "# In this way we're only temporarily changing the case of the string, but we're not saving the changes\n",
    "# If we want to save the changes we should reassing the old variable or creating a new variable to save the changes in it"
   ]
  },
  {
   "cell_type": "code",
   "execution_count": 11,
   "metadata": {},
   "outputs": [
    {
     "name": "stdout",
     "output_type": "stream",
     "text": [
      "This is a sentence\n",
      "This is a quote\n"
     ]
    }
   ],
   "source": [
    "# Use string methods to remove specific characters from the string (e.g., replace, strip)\n",
    "print(quote.replace('quote', 'sentence'))\n",
    "# strip() metod removes spaces from the beginning and the end of a string, in this case we would'n see any change\n",
    "# we can also decide a specific character that we want to remove from the beginning / end of a string\n",
    "quote2 = \"This is a quote.\"\n",
    "print(quote2.strip('.'))"
   ]
  },
  {
   "cell_type": "code",
   "execution_count": 9,
   "metadata": {},
   "outputs": [
    {
     "name": "stdout",
     "output_type": "stream",
     "text": [
      "Here's your quote: This is a quote\n"
     ]
    }
   ],
   "source": [
    "# Use string formatting to insert a variable into the string (e.g., {}).\n",
    "print(\"Here's your quote: {}\".format(quote))"
   ]
  }
 ],
 "metadata": {
  "kernelspec": {
   "display_name": "Python 3",
   "language": "python",
   "name": "python3"
  },
  "language_info": {
   "codemirror_mode": {
    "name": "ipython",
    "version": 3
   },
   "file_extension": ".py",
   "mimetype": "text/x-python",
   "name": "python",
   "nbconvert_exporter": "python",
   "pygments_lexer": "ipython3",
   "version": "3.11.3"
  },
  "orig_nbformat": 4
 },
 "nbformat": 4,
 "nbformat_minor": 2
}
