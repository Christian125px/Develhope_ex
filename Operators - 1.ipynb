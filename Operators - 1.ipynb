{
 "cells": [
  {
   "cell_type": "markdown",
   "id": "86e931ef",
   "metadata": {},
   "source": [
    "## Exercise 1 - Operators"
   ]
  },
  {
   "cell_type": "markdown",
   "id": "4560eb00",
   "metadata": {},
   "source": [
    "#### Insert the appropriate logical operator in order to print `False`"
   ]
  },
  {
   "cell_type": "code",
   "execution_count": 1,
   "id": "285cf763",
   "metadata": {},
   "outputs": [
    {
     "name": "stdout",
     "output_type": "stream",
     "text": [
      "False\n"
     ]
    }
   ],
   "source": [
    "print(False and True) # Should print False"
   ]
  }
 ],
 "metadata": {
  "kernelspec": {
   "display_name": "Python 3 (ipykernel)",
   "language": "python",
   "name": "python3"
  },
  "language_info": {
   "codemirror_mode": {
    "name": "ipython",
    "version": 3
   },
   "file_extension": ".py",
   "mimetype": "text/x-python",
   "name": "python",
   "nbconvert_exporter": "python",
   "pygments_lexer": "ipython3",
   "version": "3.11.3"
  }
 },
 "nbformat": 4,
 "nbformat_minor": 5
}
