{
 "cells": [
  {
   "cell_type": "markdown",
   "id": "6b1af9ee",
   "metadata": {},
   "source": [
    "## Operators - 8"
   ]
  },
  {
   "cell_type": "markdown",
   "id": "5cf0c6b8",
   "metadata": {},
   "source": [
    "Given two variables a = 3 and b = 4, calculate and print the sum of a and b.\n",
    "Given two variables x = 7 and y = 2, calculate and print the difference of x and y.\n",
    "Given two variables p = 5 and q = 3, calculate and print the product of p and q.\n",
    "Given two variables m = 8 and n = 2, calculate and print the quotient of m divided by n and the remainder of m divided by n."
   ]
  },
  {
   "cell_type": "code",
   "execution_count": 2,
   "id": "d7ab009f",
   "metadata": {},
   "outputs": [
    {
     "name": "stdout",
     "output_type": "stream",
     "text": [
      "The sum of 3 + 4 is equal to 7\n"
     ]
    }
   ],
   "source": [
    "a = 3\n",
    "b = 4\n",
    "somma = a + b\n",
    "print(f\"The sum of {a} + {b} is equal to {somma}\")"
   ]
  },
  {
   "cell_type": "code",
   "execution_count": 4,
   "id": "c3cdd082",
   "metadata": {},
   "outputs": [
    {
     "name": "stdout",
     "output_type": "stream",
     "text": [
      "The difference of 7 - 2 is equal to 5\n"
     ]
    }
   ],
   "source": [
    "x = 7\n",
    "y = 2\n",
    "diff = x - y\n",
    "print(f\"The difference of {x} - {y} is equal to {diff}\")"
   ]
  },
  {
   "cell_type": "code",
   "execution_count": 5,
   "id": "dd97f7fd",
   "metadata": {},
   "outputs": [
    {
     "name": "stdout",
     "output_type": "stream",
     "text": [
      "The product of 5 * 3 is equal to 15\n"
     ]
    }
   ],
   "source": [
    "p = 5\n",
    "q = 3\n",
    "prod = 5 * 3\n",
    "print(f\"The product of {p} * {q} is equal to {prod}\")"
   ]
  },
  {
   "cell_type": "code",
   "execution_count": 6,
   "id": "dec8b78c",
   "metadata": {},
   "outputs": [
    {
     "name": "stdout",
     "output_type": "stream",
     "text": [
      "The quotient and the reminder of 8 and 2 rispectively are: 4.0; 0\n"
     ]
    }
   ],
   "source": [
    "m = 8\n",
    "n = 2\n",
    "quotient = 8 / 2\n",
    "reminder = 8 % 2\n",
    "print(f\"The quotient and the reminder of {m} and {n} rispectively are: {quotient}; {reminder}\")"
   ]
  }
 ],
 "metadata": {
  "kernelspec": {
   "display_name": "Python 3 (ipykernel)",
   "language": "python",
   "name": "python3"
  },
  "language_info": {
   "codemirror_mode": {
    "name": "ipython",
    "version": 3
   },
   "file_extension": ".py",
   "mimetype": "text/x-python",
   "name": "python",
   "nbconvert_exporter": "python",
   "pygments_lexer": "ipython3",
   "version": "3.11.3"
  }
 },
 "nbformat": 4,
 "nbformat_minor": 5
}
