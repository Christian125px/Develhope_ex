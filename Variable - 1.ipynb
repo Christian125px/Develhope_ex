{
 "cells": [
  {
   "cell_type": "markdown",
   "id": "25d040ba",
   "metadata": {},
   "source": [
    "# Exercise 1 - Variables"
   ]
  },
  {
   "cell_type": "markdown",
   "id": "628ad50b",
   "metadata": {},
   "source": [
    "You have the variable a that is the sentence “Laura and tom went ON a long walk.” Apply the following changes:\n",
    "\n",
    "Lowercase the word “ON”\n",
    "Capitalize the name “tom”\n",
    "Uppercase the word “long”\n",
    "Change the letter “a” with “o” in the word “walk” using the appropriate python method.\n",
    "Now print the modified sentence.\n",
    "Use the appropriate python method to create separate strings out of each word in the new sentence."
   ]
  },
  {
   "cell_type": "code",
   "execution_count": 29,
   "id": "1af5daa2",
   "metadata": {},
   "outputs": [],
   "source": [
    "a = \"Laura and tom went ON a long walk.\""
   ]
  },
  {
   "cell_type": "code",
   "execution_count": 30,
   "id": "a8ef1720",
   "metadata": {},
   "outputs": [],
   "source": [
    "a = a.replace('ON', 'on').replace('tom', 'Tom').replace('long', 'LONG').replace('walk', 'wolk')"
   ]
  },
  {
   "cell_type": "code",
   "execution_count": 31,
   "id": "1f51c53a",
   "metadata": {},
   "outputs": [
    {
     "name": "stdout",
     "output_type": "stream",
     "text": [
      "Laura and Tom went on a LONG wolk.\n"
     ]
    }
   ],
   "source": [
    "print(a)"
   ]
  },
  {
   "cell_type": "code",
   "execution_count": 32,
   "id": "ddb4f135",
   "metadata": {},
   "outputs": [
    {
     "data": {
      "text/plain": [
       "['Laura', 'and', 'Tom', 'went', 'on', 'a', 'LONG', 'wolk.']"
      ]
     },
     "execution_count": 32,
     "metadata": {},
     "output_type": "execute_result"
    }
   ],
   "source": [
    "a.split()"
   ]
  }
 ],
 "metadata": {
  "kernelspec": {
   "display_name": "Python 3 (ipykernel)",
   "language": "python",
   "name": "python3"
  },
  "language_info": {
   "codemirror_mode": {
    "name": "ipython",
    "version": 3
   },
   "file_extension": ".py",
   "mimetype": "text/x-python",
   "name": "python",
   "nbconvert_exporter": "python",
   "pygments_lexer": "ipython3",
   "version": "3.11.3"
  }
 },
 "nbformat": 4,
 "nbformat_minor": 5
}
