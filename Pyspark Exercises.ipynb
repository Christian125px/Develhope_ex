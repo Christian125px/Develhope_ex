{
 "cells": [
  {
   "cell_type": "code",
   "execution_count": 1,
   "id": "9d867484",
   "metadata": {},
   "outputs": [],
   "source": [
    "import pyspark\n",
    "from pyspark.sql import SparkSession"
   ]
  },
  {
   "cell_type": "code",
   "execution_count": 2,
   "id": "18cf8dbd",
   "metadata": {},
   "outputs": [],
   "source": [
    "spark = SparkSession.builder.master(\"local[*]\").appName(\"Datamanipulation\").getOrCreate()"
   ]
  },
  {
   "cell_type": "code",
   "execution_count": 3,
   "id": "9e64796c",
   "metadata": {},
   "outputs": [
    {
     "data": {
      "text/html": [
       "\n",
       "            <div>\n",
       "                <p><b>SparkSession - in-memory</b></p>\n",
       "                \n",
       "        <div>\n",
       "            <p><b>SparkContext</b></p>\n",
       "\n",
       "            <p><a href=\"http://host.docker.internal:4040\">Spark UI</a></p>\n",
       "\n",
       "            <dl>\n",
       "              <dt>Version</dt>\n",
       "                <dd><code>v3.5.0</code></dd>\n",
       "              <dt>Master</dt>\n",
       "                <dd><code>local[*]</code></dd>\n",
       "              <dt>AppName</dt>\n",
       "                <dd><code>Datamanipulation</code></dd>\n",
       "            </dl>\n",
       "        </div>\n",
       "        \n",
       "            </div>\n",
       "        "
      ],
      "text/plain": [
       "<pyspark.sql.session.SparkSession at 0x1f9551b9210>"
      ]
     },
     "execution_count": 3,
     "metadata": {},
     "output_type": "execute_result"
    }
   ],
   "source": [
    "spark"
   ]
  },
  {
   "cell_type": "code",
   "execution_count": 4,
   "id": "1cb29770",
   "metadata": {},
   "outputs": [
    {
     "name": "stdout",
     "output_type": "stream",
     "text": [
      "+------+---------------+----------+----------+--------------+-----------+----------------+-----------+-------------+--------------------+--------------+-------+---------------+---------------+------------+--------------------+--------+--------+--------+-------+\n",
      "|Row ID|       Order ID|Order Date| Ship Date|     Ship Mode|Customer ID|   Customer Name|    Segment|         City|               State|       Country| Region|     Product ID|       Category|Sub-Category|        Product Name|   Sales|Quantity|Discount| Profit|\n",
      "+------+---------------+----------+----------+--------------+-----------+----------------+-----------+-------------+--------------------+--------------+-------+---------------+---------------+------------+--------------------+--------+--------+--------+-------+\n",
      "|     1|ES-2017-1311038|07/02/2017|11/02/2017|Standard Class|   AS-10045|  Aaron Smayling|  Corporate|        Leeds|             England|United Kingdom|  North|OFF-ST-10000988|Office Supplies|     Storage|Fellowes Folders,...|    79.2|       3|     0.0|   39.6|\n",
      "|     2|ES-2017-1311038|07/02/2017|11/02/2017|Standard Class|   AS-10045|  Aaron Smayling|  Corporate|        Leeds|             England|United Kingdom|  North|TEC-AC-10004144|     Technology| Accessories|SanDisk Numeric K...|  388.92|       7|     0.0|    0.0|\n",
      "|     3|ES-2017-1311038|07/02/2017|11/02/2017|Standard Class|   AS-10045|  Aaron Smayling|  Corporate|        Leeds|             England|United Kingdom|  North|OFF-LA-10001915|Office Supplies|      Labels|Avery Legal Exhib...|   35.19|       3|     0.0|  16.11|\n",
      "|     4|ES-2017-1311038|07/02/2017|11/02/2017|Standard Class|   AS-10045|  Aaron Smayling|  Corporate|        Leeds|             England|United Kingdom|  North|OFF-ST-10004550|Office Supplies|     Storage|Fellowes Folders,...|   50.94|       2|     0.0|   13.2|\n",
      "|     5|ES-2017-1311038|07/02/2017|11/02/2017|Standard Class|   AS-10045|  Aaron Smayling|  Corporate|        Leeds|             England|United Kingdom|  North|TEC-AC-10004068|     Technology| Accessories|Memorex Memory Ca...|  307.44|       3|     0.0|  73.71|\n",
      "|     6|ES-2017-1311038|07/02/2017|11/02/2017|Standard Class|   AS-10045|  Aaron Smayling|  Corporate|        Leeds|             England|United Kingdom|  North|OFF-ST-10002271|Office Supplies|     Storage|Rogers Shelving, ...|   122.4|       2|     0.0|  37.92|\n",
      "|     7|ES-2017-1311038|07/02/2017|11/02/2017|Standard Class|   AS-10045|  Aaron Smayling|  Corporate|        Leeds|             England|United Kingdom|  North|TEC-PH-10003963|     Technology|      Phones|Apple Signal Boos...|  413.82|       3|     0.0|  20.61|\n",
      "|     8|ES-2015-5113958|02/08/2015|07/08/2015|  Second Class|   EB-13840|   Ellis Ballard|  Corporate|West Bromwich|             England|United Kingdom|  North|TEC-CO-10004325|     Technology|     Copiers|Canon Personal Co...|  428.22|       3|     0.0| 192.69|\n",
      "|     9|ES-2015-5113958|02/08/2015|07/08/2015|  Second Class|   EB-13840|   Ellis Ballard|  Corporate|West Bromwich|             England|United Kingdom|  North|OFF-AP-10004512|Office Supplies|  Appliances|   Hoover Stove, Red| 3979.29|       7|     0.0|1989.54|\n",
      "|    10|ES-2015-5113958|02/08/2015|07/08/2015|  Second Class|   EB-13840|   Ellis Ballard|  Corporate|West Bromwich|             England|United Kingdom|  North|OFF-FA-10002393|Office Supplies|   Fasteners|Accos Push Pins, ...|   43.56|       3|     0.0|   12.6|\n",
      "|    11|ES-2015-2510515|20/06/2015|20/06/2015|      Same Day|   LH-17155|Logan Haushalter|   Consumer|   Le Bouscat|Aquitaine-Limousi...|        France|Central|OFF-LA-10002805|Office Supplies|      Labels|Hon Color Coded L...|   25.26|       2|     0.0|   0.48|\n",
      "|    12|ES-2015-2510515|20/06/2015|20/06/2015|      Same Day|   LH-17155|Logan Haushalter|   Consumer|   Le Bouscat|Aquitaine-Limousi...|        France|Central|OFF-AP-10002330|Office Supplies|  Appliances|Hamilton Beach St...|2443.905|       5|     0.1|760.305|\n",
      "|    13|ES-2015-2510515|20/06/2015|20/06/2015|      Same Day|   LH-17155|Logan Haushalter|   Consumer|   Le Bouscat|Aquitaine-Limousi...|        France|Central|OFF-AR-10000505|Office Supplies|         Art|Binney & Smith Pe...|   12.21|       1|     0.0|    0.0|\n",
      "|    14|ES-2015-2510515|20/06/2015|20/06/2015|      Same Day|   LH-17155|Logan Haushalter|   Consumer|   Le Bouscat|Aquitaine-Limousi...|        France|Central|TEC-PH-10002898|     Technology|      Phones|Samsung Smart Pho...|2167.296|       4|    0.15|790.416|\n",
      "|    15|ES-2015-2510515|20/06/2015|20/06/2015|      Same Day|   LH-17155|Logan Haushalter|   Consumer|   Le Bouscat|Aquitaine-Limousi...|        France|Central|OFF-ST-10001413|Office Supplies|     Storage|Rogers Folders, Blue| 138.105|       5|     0.1|-12.345|\n",
      "|    16|ES-2016-4380115|16/02/2016|20/02/2016|Standard Class|   KC-16540| Kelly Collister|   Consumer|   Strasbourg|Alsace-Champagne-...|        France|Central|OFF-ST-10003931|Office Supplies|     Storage|Smead Trays, Wire...| 128.385|       3|     0.1|  4.275|\n",
      "|    17|ES-2016-4380115|16/02/2016|20/02/2016|Standard Class|   KC-16540| Kelly Collister|   Consumer|   Strasbourg|Alsace-Champagne-...|        France|Central|TEC-AC-10004269|     Technology| Accessories|Belkin Memory Car...|  690.12|       6|     0.0|    0.0|\n",
      "|    18|ES-2016-4380115|16/02/2016|20/02/2016|Standard Class|   KC-16540| Kelly Collister|   Consumer|   Strasbourg|Alsace-Champagne-...|        France|Central|OFF-LA-10001676|Office Supplies|      Labels|Hon Removable Lab...|    8.16|       1|     0.0|   1.14|\n",
      "|    19|ES-2017-2573330|03/11/2017|08/11/2017|Standard Class|   BF-11170|      Ben Ferrer|Home Office|         Unna|North Rhine-Westp...|       Germany|Central|TEC-MA-10000811|     Technology|    Machines|Okidata Phone, Du...|  347.88|       4|     0.0|  76.44|\n",
      "|    20|ES-2017-2573330|03/11/2017|08/11/2017|Standard Class|   BF-11170|      Ben Ferrer|Home Office|         Unna|North Rhine-Westp...|       Germany|Central|OFF-ST-10000648|Office Supplies|     Storage|Eldon File Cart, ...| 575.505|       5|     0.1| 12.705|\n",
      "+------+---------------+----------+----------+--------------+-----------+----------------+-----------+-------------+--------------------+--------------+-------+---------------+---------------+------------+--------------------+--------+--------+--------+-------+\n",
      "only showing top 20 rows\n",
      "\n",
      "root\n",
      " |-- Row ID: integer (nullable = true)\n",
      " |-- Order ID: string (nullable = true)\n",
      " |-- Order Date: string (nullable = true)\n",
      " |-- Ship Date: string (nullable = true)\n",
      " |-- Ship Mode: string (nullable = true)\n",
      " |-- Customer ID: string (nullable = true)\n",
      " |-- Customer Name: string (nullable = true)\n",
      " |-- Segment: string (nullable = true)\n",
      " |-- City: string (nullable = true)\n",
      " |-- State: string (nullable = true)\n",
      " |-- Country: string (nullable = true)\n",
      " |-- Region: string (nullable = true)\n",
      " |-- Product ID: string (nullable = true)\n",
      " |-- Category: string (nullable = true)\n",
      " |-- Sub-Category: string (nullable = true)\n",
      " |-- Product Name: string (nullable = true)\n",
      " |-- Sales: double (nullable = true)\n",
      " |-- Quantity: integer (nullable = true)\n",
      " |-- Discount: double (nullable = true)\n",
      " |-- Profit: double (nullable = true)\n",
      "\n"
     ]
    }
   ],
   "source": [
    "# read our data - lives in a csv file\n",
    "\n",
    "df = spark.read.option(\"header\",\"true\").option(\"inferSchema\", \"true\").csv(\"Sample - EU Superstore.csv\")\n",
    "df.show()\n",
    "df.printSchema()"
   ]
  },
  {
   "cell_type": "code",
   "execution_count": 5,
   "id": "6c800030",
   "metadata": {},
   "outputs": [
    {
     "data": {
      "text/plain": [
       "2827"
      ]
     },
     "execution_count": 5,
     "metadata": {},
     "output_type": "execute_result"
    }
   ],
   "source": [
    "# how many rows of the EU Superstore dataset have the country being France\n",
    "total_france = df.filter(df['Country'] == 'France').count()\n",
    "total_france"
   ]
  },
  {
   "cell_type": "code",
   "execution_count": 6,
   "id": "648e5f8a",
   "metadata": {},
   "outputs": [
    {
     "data": {
      "text/plain": [
       "2329"
      ]
     },
     "execution_count": 6,
     "metadata": {},
     "output_type": "execute_result"
    }
   ],
   "source": [
    "# of those, how many are profitable?\n",
    "\n",
    "total_france_profitable = df.filter((df['Country'] == 'France') & (df['Profit'] > 0)).count()\n",
    "total_france_profitable"
   ]
  },
  {
   "cell_type": "code",
   "execution_count": 7,
   "id": "c7d11377",
   "metadata": {},
   "outputs": [
    {
     "name": "stdout",
     "output_type": "stream",
     "text": [
      "82.38 %\n"
     ]
    }
   ],
   "source": [
    "percentage_france_profitable = round((total_france_profitable / total_france) * 100, 2)\n",
    "print(percentage_france_profitable, '%')"
   ]
  },
  {
   "cell_type": "code",
   "execution_count": 8,
   "id": "ca611b93",
   "metadata": {},
   "outputs": [
    {
     "data": {
      "text/plain": [
       "13"
      ]
     },
     "execution_count": 8,
     "metadata": {},
     "output_type": "execute_result"
    }
   ],
   "source": [
    "# how many different discount brackets exist? what are they?\n",
    "df.select('Discount').distinct().count() - 1 # number of different \"Discount\" brackets"
   ]
  },
  {
   "cell_type": "markdown",
   "id": "ea66e00a",
   "metadata": {},
   "source": [
    "discount brackets = range or category of discounts offered on a product or service. "
   ]
  },
  {
   "cell_type": "code",
   "execution_count": 9,
   "id": "42124eee",
   "metadata": {},
   "outputs": [
    {
     "name": "stdout",
     "output_type": "stream",
     "text": [
      "+--------+\n",
      "|Discount|\n",
      "+--------+\n",
      "|     0.0|\n",
      "|     0.1|\n",
      "|    0.15|\n",
      "|     0.2|\n",
      "|     0.3|\n",
      "|    0.35|\n",
      "|     0.4|\n",
      "|    0.45|\n",
      "|     0.5|\n",
      "|     0.6|\n",
      "|    0.65|\n",
      "|     0.7|\n",
      "|     0.8|\n",
      "|    0.85|\n",
      "+--------+\n",
      "\n"
     ]
    }
   ],
   "source": [
    "df.select('Discount').distinct().orderBy('Discount').show()"
   ]
  },
  {
   "cell_type": "code",
   "execution_count": 12,
   "id": "b2e1f9f0",
   "metadata": {},
   "outputs": [
    {
     "name": "stdout",
     "output_type": "stream",
     "text": [
      "+--------+-----------+\n",
      "|Discount|TotalProfit|\n",
      "+--------+-----------+\n",
      "|     0.0|  383806.53|\n",
      "|     0.1|  126884.03|\n",
      "|    0.15|   24677.56|\n",
      "|     0.2|    2189.55|\n",
      "|     0.3|    -758.42|\n",
      "|    0.35|   -9122.65|\n",
      "|     0.4|  -21346.43|\n",
      "|    0.45|   -1103.19|\n",
      "|     0.5|  -96632.12|\n",
      "|     0.6|  -20517.46|\n",
      "|    0.65|   -6221.97|\n",
      "|     0.7|   -5496.77|\n",
      "|     0.8|    -460.28|\n",
      "|    0.85|   -3068.66|\n",
      "+--------+-----------+\n",
      "\n"
     ]
    }
   ],
   "source": [
    "# let's see the total profit by discount bracket, make sure they are ordered by \n",
    "from pyspark.sql.functions import sum, round\n",
    "total_profit = df.groupBy('Discount') \\\n",
    "                 .agg(round(sum('Profit'), 2)) \\\n",
    "                 .withColumnRenamed('round(sum(Profit), 2)', 'TotalProfit') \\\n",
    "                 .orderBy('Discount')\n",
    "total_profit.show()"
   ]
  },
  {
   "cell_type": "code",
   "execution_count": 13,
   "id": "e7201d8b",
   "metadata": {},
   "outputs": [
    {
     "name": "stdout",
     "output_type": "stream",
     "text": [
      "+-----------+\n",
      "|MaxDiscount|\n",
      "+-----------+\n",
      "|        0.2|\n",
      "+-----------+\n",
      "\n"
     ]
    }
   ],
   "source": [
    "# what is the value after which we should stop offering discount?\n",
    "# Solution 1: Spark SQL \n",
    "\n",
    "total_profit.createOrReplaceTempView('total_profit')\n",
    "# spark.sql(\"SELECT * FROM total_profit\").show()\n",
    "max_profitable_discount = spark.sql(\"SELECT MAX(Discount) AS MaxDiscount FROM total_profit WHERE TotalProfit > 0\") # maximum discount among profitable transactions\n",
    "max_profitable_discount.show()"
   ]
  },
  {
   "cell_type": "code",
   "execution_count": 14,
   "id": "53e16dcb",
   "metadata": {},
   "outputs": [
    {
     "data": {
      "text/plain": [
       "0.2"
      ]
     },
     "execution_count": 14,
     "metadata": {},
     "output_type": "execute_result"
    }
   ],
   "source": [
    "# Accessing the value\n",
    "max_profitable_discount.first()['MaxDiscount']"
   ]
  },
  {
   "cell_type": "code",
   "execution_count": 15,
   "id": "d1d76050",
   "metadata": {},
   "outputs": [
    {
     "data": {
      "text/plain": [
       "0.2"
      ]
     },
     "execution_count": 15,
     "metadata": {},
     "output_type": "execute_result"
    }
   ],
   "source": [
    "# what is the value after which we should stop offering discount?\n",
    "# Solution 2: Spark\n",
    "from pyspark.sql.functions import max\n",
    "\n",
    "positive_total_profit = total_profit.filter(total_profit['TotalProfit'] > 0)\n",
    "max_profitable_discount = positive_total_profit.select(max('Discount')).first()[0] # first() method to retrieves the first row of the result, and [0] is used to access the actual maximum value.\n",
    "max_profitable_discount"
   ]
  },
  {
   "cell_type": "code",
   "execution_count": 16,
   "id": "a297328f",
   "metadata": {},
   "outputs": [
    {
     "name": "stdout",
     "output_type": "stream",
     "text": [
      "+-------------+\n",
      "|max(Discount)|\n",
      "+-------------+\n",
      "|          0.2|\n",
      "+-------------+\n",
      "\n"
     ]
    }
   ],
   "source": [
    "positive_total_profit.select(max('Discount')).show() # Spark DataFrame"
   ]
  },
  {
   "cell_type": "code",
   "execution_count": 17,
   "id": "a43f65a8",
   "metadata": {},
   "outputs": [
    {
     "data": {
      "text/plain": [
       "Row(max(Discount)=0.2)"
      ]
     },
     "execution_count": 17,
     "metadata": {},
     "output_type": "execute_result"
    }
   ],
   "source": [
    "positive_total_profit.select(max('Discount')).first() # List"
   ]
  },
  {
   "cell_type": "code",
   "execution_count": 18,
   "id": "868066c7",
   "metadata": {},
   "outputs": [
    {
     "data": {
      "text/plain": [
       "0.2"
      ]
     },
     "execution_count": 18,
     "metadata": {},
     "output_type": "execute_result"
    }
   ],
   "source": [
    "positive_total_profit.select(max('Discount')).first()[0] # Value"
   ]
  },
  {
   "cell_type": "code",
   "execution_count": 75,
   "id": "aae94ee1",
   "metadata": {},
   "outputs": [
    {
     "name": "stdout",
     "output_type": "stream",
     "text": [
      "+-----------+-------+\n",
      "|Customer ID| Profit|\n",
      "+-----------+-------+\n",
      "|   SP-20920|4974.51|\n",
      "|   PJ-18835| 3986.0|\n",
      "|   PO-18865| 3778.2|\n",
      "|   EB-13840|3459.66|\n",
      "|   MG-18145|3144.44|\n",
      "+-----------+-------+\n",
      "\n"
     ]
    }
   ],
   "source": [
    "# who are the top 5 most profitable customers\n",
    "\n",
    "top5_customers = df.groupBy('Customer ID') \\\n",
    "                .agg(round(sum('Profit'), 2)) \\\n",
    "                .withColumnRenamed('round(sum(Profit), 2)', 'Profit') \\\n",
    "                .orderBy('Profit', ascending=False) \\\n",
    "                .limit(5)\n",
    "top5_customers.show()"
   ]
  },
  {
   "cell_type": "code",
   "execution_count": 57,
   "id": "277c465a",
   "metadata": {},
   "outputs": [
    {
     "data": {
      "text/plain": [
       "76"
      ]
     },
     "execution_count": 57,
     "metadata": {},
     "output_type": "execute_result"
    }
   ],
   "source": [
    "# get all the rows belonging to those 5 customer names: hint, you may need the collect method - how many rows are they?\n",
    "# hard coded solution\n",
    "df.filter(  (df['Customer ID'] == 'SP-20920') \\\n",
    "          | (df['Customer ID'] == 'PJ-18835') \\\n",
    "          | (df['Customer ID'] == 'PO-18865') \\\n",
    "          | (df['Customer ID'] == 'EB-13840') \\\n",
    "          | (df['Customer ID'] == 'MG-18145')) \\\n",
    "          .count()"
   ]
  },
  {
   "cell_type": "code",
   "execution_count": 93,
   "id": "c153df2d",
   "metadata": {},
   "outputs": [
    {
     "name": "stdout",
     "output_type": "stream",
     "text": [
      "Numero totale di righe per i primi 5 clienti redditizi: 76\n"
     ]
    }
   ],
   "source": [
    "# solution 2\n",
    "# collecting the results into an array of rows\n",
    "top5_rows = top5_customers.collect()\n",
    "\n",
    "# extracting customer names from the collected results\n",
    "top5_customer_names = [row['Customer ID'] for row in top5_rows]\n",
    "\n",
    "# filtering the original rows based on customer names\n",
    "rows_for_top5_customers = df.filter(df['Customer ID'].isin(top5_customer_names))\n",
    "\n",
    "# showing how many records there are in total for top 5 profitable customers\n",
    "print(f\"Numero totale di righe per i primi 5 clienti redditizi: {rows_for_top5_customers.count()}\")"
   ]
  },
  {
   "cell_type": "code",
   "execution_count": 97,
   "id": "8d0fc034",
   "metadata": {},
   "outputs": [
    {
     "data": {
      "text/plain": [
       "Column<'round((Sales / (1 - Discount)), 2)'>"
      ]
     },
     "execution_count": 97,
     "metadata": {},
     "output_type": "execute_result"
    }
   ],
   "source": [
    "# create a new column which is the value of the sale where there is not discount applied. Hint: orginal = sales/(1-d)\n",
    "from pyspark.sql.functions import col\n",
    "\n",
    "original = col('Sales')\n",
    "original = round(original / (1 - col('Discount')), 2)\n",
    "original"
   ]
  },
  {
   "cell_type": "code",
   "execution_count": 98,
   "id": "5f9d09ac",
   "metadata": {},
   "outputs": [
    {
     "name": "stdout",
     "output_type": "stream",
     "text": [
      "+------+---------------+----------+----------+--------------+-----------+----------------+-----------+-------------+--------------------+--------------+-------+---------------+---------------+------------+--------------------+--------+--------+--------+-------+--------------+\n",
      "|Row ID|       Order ID|Order Date| Ship Date|     Ship Mode|Customer ID|   Customer Name|    Segment|         City|               State|       Country| Region|     Product ID|       Category|Sub-Category|        Product Name|   Sales|Quantity|Discount| Profit|original_sales|\n",
      "+------+---------------+----------+----------+--------------+-----------+----------------+-----------+-------------+--------------------+--------------+-------+---------------+---------------+------------+--------------------+--------+--------+--------+-------+--------------+\n",
      "|     1|ES-2017-1311038|07/02/2017|11/02/2017|Standard Class|   AS-10045|  Aaron Smayling|  Corporate|        Leeds|             England|United Kingdom|  North|OFF-ST-10000988|Office Supplies|     Storage|Fellowes Folders,...|    79.2|       3|     0.0|   39.6|          79.2|\n",
      "|     2|ES-2017-1311038|07/02/2017|11/02/2017|Standard Class|   AS-10045|  Aaron Smayling|  Corporate|        Leeds|             England|United Kingdom|  North|TEC-AC-10004144|     Technology| Accessories|SanDisk Numeric K...|  388.92|       7|     0.0|    0.0|        388.92|\n",
      "|     3|ES-2017-1311038|07/02/2017|11/02/2017|Standard Class|   AS-10045|  Aaron Smayling|  Corporate|        Leeds|             England|United Kingdom|  North|OFF-LA-10001915|Office Supplies|      Labels|Avery Legal Exhib...|   35.19|       3|     0.0|  16.11|         35.19|\n",
      "|     4|ES-2017-1311038|07/02/2017|11/02/2017|Standard Class|   AS-10045|  Aaron Smayling|  Corporate|        Leeds|             England|United Kingdom|  North|OFF-ST-10004550|Office Supplies|     Storage|Fellowes Folders,...|   50.94|       2|     0.0|   13.2|         50.94|\n",
      "|     5|ES-2017-1311038|07/02/2017|11/02/2017|Standard Class|   AS-10045|  Aaron Smayling|  Corporate|        Leeds|             England|United Kingdom|  North|TEC-AC-10004068|     Technology| Accessories|Memorex Memory Ca...|  307.44|       3|     0.0|  73.71|        307.44|\n",
      "|     6|ES-2017-1311038|07/02/2017|11/02/2017|Standard Class|   AS-10045|  Aaron Smayling|  Corporate|        Leeds|             England|United Kingdom|  North|OFF-ST-10002271|Office Supplies|     Storage|Rogers Shelving, ...|   122.4|       2|     0.0|  37.92|         122.4|\n",
      "|     7|ES-2017-1311038|07/02/2017|11/02/2017|Standard Class|   AS-10045|  Aaron Smayling|  Corporate|        Leeds|             England|United Kingdom|  North|TEC-PH-10003963|     Technology|      Phones|Apple Signal Boos...|  413.82|       3|     0.0|  20.61|        413.82|\n",
      "|     8|ES-2015-5113958|02/08/2015|07/08/2015|  Second Class|   EB-13840|   Ellis Ballard|  Corporate|West Bromwich|             England|United Kingdom|  North|TEC-CO-10004325|     Technology|     Copiers|Canon Personal Co...|  428.22|       3|     0.0| 192.69|        428.22|\n",
      "|     9|ES-2015-5113958|02/08/2015|07/08/2015|  Second Class|   EB-13840|   Ellis Ballard|  Corporate|West Bromwich|             England|United Kingdom|  North|OFF-AP-10004512|Office Supplies|  Appliances|   Hoover Stove, Red| 3979.29|       7|     0.0|1989.54|       3979.29|\n",
      "|    10|ES-2015-5113958|02/08/2015|07/08/2015|  Second Class|   EB-13840|   Ellis Ballard|  Corporate|West Bromwich|             England|United Kingdom|  North|OFF-FA-10002393|Office Supplies|   Fasteners|Accos Push Pins, ...|   43.56|       3|     0.0|   12.6|         43.56|\n",
      "|    11|ES-2015-2510515|20/06/2015|20/06/2015|      Same Day|   LH-17155|Logan Haushalter|   Consumer|   Le Bouscat|Aquitaine-Limousi...|        France|Central|OFF-LA-10002805|Office Supplies|      Labels|Hon Color Coded L...|   25.26|       2|     0.0|   0.48|         25.26|\n",
      "|    12|ES-2015-2510515|20/06/2015|20/06/2015|      Same Day|   LH-17155|Logan Haushalter|   Consumer|   Le Bouscat|Aquitaine-Limousi...|        France|Central|OFF-AP-10002330|Office Supplies|  Appliances|Hamilton Beach St...|2443.905|       5|     0.1|760.305|       2715.45|\n",
      "|    13|ES-2015-2510515|20/06/2015|20/06/2015|      Same Day|   LH-17155|Logan Haushalter|   Consumer|   Le Bouscat|Aquitaine-Limousi...|        France|Central|OFF-AR-10000505|Office Supplies|         Art|Binney & Smith Pe...|   12.21|       1|     0.0|    0.0|         12.21|\n",
      "|    14|ES-2015-2510515|20/06/2015|20/06/2015|      Same Day|   LH-17155|Logan Haushalter|   Consumer|   Le Bouscat|Aquitaine-Limousi...|        France|Central|TEC-PH-10002898|     Technology|      Phones|Samsung Smart Pho...|2167.296|       4|    0.15|790.416|       2549.76|\n",
      "|    15|ES-2015-2510515|20/06/2015|20/06/2015|      Same Day|   LH-17155|Logan Haushalter|   Consumer|   Le Bouscat|Aquitaine-Limousi...|        France|Central|OFF-ST-10001413|Office Supplies|     Storage|Rogers Folders, Blue| 138.105|       5|     0.1|-12.345|        153.45|\n",
      "|    16|ES-2016-4380115|16/02/2016|20/02/2016|Standard Class|   KC-16540| Kelly Collister|   Consumer|   Strasbourg|Alsace-Champagne-...|        France|Central|OFF-ST-10003931|Office Supplies|     Storage|Smead Trays, Wire...| 128.385|       3|     0.1|  4.275|        142.65|\n",
      "|    17|ES-2016-4380115|16/02/2016|20/02/2016|Standard Class|   KC-16540| Kelly Collister|   Consumer|   Strasbourg|Alsace-Champagne-...|        France|Central|TEC-AC-10004269|     Technology| Accessories|Belkin Memory Car...|  690.12|       6|     0.0|    0.0|        690.12|\n",
      "|    18|ES-2016-4380115|16/02/2016|20/02/2016|Standard Class|   KC-16540| Kelly Collister|   Consumer|   Strasbourg|Alsace-Champagne-...|        France|Central|OFF-LA-10001676|Office Supplies|      Labels|Hon Removable Lab...|    8.16|       1|     0.0|   1.14|          8.16|\n",
      "|    19|ES-2017-2573330|03/11/2017|08/11/2017|Standard Class|   BF-11170|      Ben Ferrer|Home Office|         Unna|North Rhine-Westp...|       Germany|Central|TEC-MA-10000811|     Technology|    Machines|Okidata Phone, Du...|  347.88|       4|     0.0|  76.44|        347.88|\n",
      "|    20|ES-2017-2573330|03/11/2017|08/11/2017|Standard Class|   BF-11170|      Ben Ferrer|Home Office|         Unna|North Rhine-Westp...|       Germany|Central|OFF-ST-10000648|Office Supplies|     Storage|Eldon File Cart, ...| 575.505|       5|     0.1| 12.705|        639.45|\n",
      "+------+---------------+----------+----------+--------------+-----------+----------------+-----------+-------------+--------------------+--------------+-------+---------------+---------------+------------+--------------------+--------+--------+--------+-------+--------------+\n",
      "only showing top 20 rows\n",
      "\n"
     ]
    }
   ],
   "source": [
    "df1 = df.withColumn('original_sales', original)\n",
    "df1.show()"
   ]
  },
  {
   "cell_type": "code",
   "execution_count": 102,
   "metadata": {},
   "outputs": [
    {
     "ename": "TypeError",
     "evalue": "'Column' object is not callable",
     "output_type": "error",
     "traceback": [
      "\u001b[1;31m---------------------------------------------------------------------------\u001b[0m",
      "\u001b[1;31mTypeError\u001b[0m                                 Traceback (most recent call last)",
      "\u001b[1;32mc:\\Users\\Chris\\Desktop\\Develhope\\Data\\PYTHON\\Spark\\Exercise\\Data_PySpark_BigData_Exercises\\Pyspark Exercises.ipynb Cell 23\u001b[0m line \u001b[0;36m2\n\u001b[0;32m      <a href='vscode-notebook-cell:/c%3A/Users/Chris/Desktop/Develhope/Data/PYTHON/Spark/Exercise/Data_PySpark_BigData_Exercises/Pyspark%20Exercises.ipynb#X54sZmlsZQ%3D%3D?line=0'>1</a>\u001b[0m SalesDiscountDifference \u001b[39m=\u001b[39m \u001b[39mround\u001b[39m(col(\u001b[39m\"\u001b[39m\u001b[39mSales\u001b[39m\u001b[39m\"\u001b[39m) \u001b[39m-\u001b[39m col(\u001b[39m\"\u001b[39m\u001b[39mDiscount\u001b[39m\u001b[39m\"\u001b[39m), \u001b[39m2\u001b[39m)\n\u001b[1;32m----> <a href='vscode-notebook-cell:/c%3A/Users/Chris/Desktop/Develhope/Data/PYTHON/Spark/Exercise/Data_PySpark_BigData_Exercises/Pyspark%20Exercises.ipynb#X54sZmlsZQ%3D%3D?line=1'>2</a>\u001b[0m SalesDiscountDifference\u001b[39m.\u001b[39;49mshow()\n",
      "\u001b[1;31mTypeError\u001b[0m: 'Column' object is not callable"
     ]
    }
   ],
   "source": [
    "SalesDiscountDifference = round(col(\"Sales\") - col(\"Discount\"), 2)\n",
    "SalesDiscountDifference"
   ]
  },
  {
   "cell_type": "code",
   "execution_count": 110,
   "id": "ba0f9aa9",
   "metadata": {},
   "outputs": [
    {
     "name": "stdout",
     "output_type": "stream",
     "text": [
      "+------+---------------+----------+----------+--------------+-----------+----------------+-----------+-------------+--------------------+--------------+-------+---------------+---------------+------------+--------------------+--------+--------+--------+-------+--------------+-----------------------+\n",
      "|Row ID|       Order ID|Order Date| Ship Date|     Ship Mode|Customer ID|   Customer Name|    Segment|         City|               State|       Country| Region|     Product ID|       Category|Sub-Category|        Product Name|   Sales|Quantity|Discount| Profit|original_sales|SalesDiscountDifference|\n",
      "+------+---------------+----------+----------+--------------+-----------+----------------+-----------+-------------+--------------------+--------------+-------+---------------+---------------+------------+--------------------+--------+--------+--------+-------+--------------+-----------------------+\n",
      "|     1|ES-2017-1311038|07/02/2017|11/02/2017|Standard Class|   AS-10045|  Aaron Smayling|  Corporate|        Leeds|             England|United Kingdom|  North|OFF-ST-10000988|Office Supplies|     Storage|Fellowes Folders,...|    79.2|       3|     0.0|   39.6|          79.2|                    0.0|\n",
      "|     2|ES-2017-1311038|07/02/2017|11/02/2017|Standard Class|   AS-10045|  Aaron Smayling|  Corporate|        Leeds|             England|United Kingdom|  North|TEC-AC-10004144|     Technology| Accessories|SanDisk Numeric K...|  388.92|       7|     0.0|    0.0|        388.92|                    0.0|\n",
      "|     3|ES-2017-1311038|07/02/2017|11/02/2017|Standard Class|   AS-10045|  Aaron Smayling|  Corporate|        Leeds|             England|United Kingdom|  North|OFF-LA-10001915|Office Supplies|      Labels|Avery Legal Exhib...|   35.19|       3|     0.0|  16.11|         35.19|                    0.0|\n",
      "|     4|ES-2017-1311038|07/02/2017|11/02/2017|Standard Class|   AS-10045|  Aaron Smayling|  Corporate|        Leeds|             England|United Kingdom|  North|OFF-ST-10004550|Office Supplies|     Storage|Fellowes Folders,...|   50.94|       2|     0.0|   13.2|         50.94|                    0.0|\n",
      "|     5|ES-2017-1311038|07/02/2017|11/02/2017|Standard Class|   AS-10045|  Aaron Smayling|  Corporate|        Leeds|             England|United Kingdom|  North|TEC-AC-10004068|     Technology| Accessories|Memorex Memory Ca...|  307.44|       3|     0.0|  73.71|        307.44|                    0.0|\n",
      "|     6|ES-2017-1311038|07/02/2017|11/02/2017|Standard Class|   AS-10045|  Aaron Smayling|  Corporate|        Leeds|             England|United Kingdom|  North|OFF-ST-10002271|Office Supplies|     Storage|Rogers Shelving, ...|   122.4|       2|     0.0|  37.92|         122.4|                    0.0|\n",
      "|     7|ES-2017-1311038|07/02/2017|11/02/2017|Standard Class|   AS-10045|  Aaron Smayling|  Corporate|        Leeds|             England|United Kingdom|  North|TEC-PH-10003963|     Technology|      Phones|Apple Signal Boos...|  413.82|       3|     0.0|  20.61|        413.82|                    0.0|\n",
      "|     8|ES-2015-5113958|02/08/2015|07/08/2015|  Second Class|   EB-13840|   Ellis Ballard|  Corporate|West Bromwich|             England|United Kingdom|  North|TEC-CO-10004325|     Technology|     Copiers|Canon Personal Co...|  428.22|       3|     0.0| 192.69|        428.22|                    0.0|\n",
      "|     9|ES-2015-5113958|02/08/2015|07/08/2015|  Second Class|   EB-13840|   Ellis Ballard|  Corporate|West Bromwich|             England|United Kingdom|  North|OFF-AP-10004512|Office Supplies|  Appliances|   Hoover Stove, Red| 3979.29|       7|     0.0|1989.54|       3979.29|                    0.0|\n",
      "|    10|ES-2015-5113958|02/08/2015|07/08/2015|  Second Class|   EB-13840|   Ellis Ballard|  Corporate|West Bromwich|             England|United Kingdom|  North|OFF-FA-10002393|Office Supplies|   Fasteners|Accos Push Pins, ...|   43.56|       3|     0.0|   12.6|         43.56|                    0.0|\n",
      "|    11|ES-2015-2510515|20/06/2015|20/06/2015|      Same Day|   LH-17155|Logan Haushalter|   Consumer|   Le Bouscat|Aquitaine-Limousi...|        France|Central|OFF-LA-10002805|Office Supplies|      Labels|Hon Color Coded L...|   25.26|       2|     0.0|   0.48|         25.26|                    0.0|\n",
      "|    12|ES-2015-2510515|20/06/2015|20/06/2015|      Same Day|   LH-17155|Logan Haushalter|   Consumer|   Le Bouscat|Aquitaine-Limousi...|        France|Central|OFF-AP-10002330|Office Supplies|  Appliances|Hamilton Beach St...|2443.905|       5|     0.1|760.305|       2715.45|                 271.54|\n",
      "|    13|ES-2015-2510515|20/06/2015|20/06/2015|      Same Day|   LH-17155|Logan Haushalter|   Consumer|   Le Bouscat|Aquitaine-Limousi...|        France|Central|OFF-AR-10000505|Office Supplies|         Art|Binney & Smith Pe...|   12.21|       1|     0.0|    0.0|         12.21|                    0.0|\n",
      "|    14|ES-2015-2510515|20/06/2015|20/06/2015|      Same Day|   LH-17155|Logan Haushalter|   Consumer|   Le Bouscat|Aquitaine-Limousi...|        France|Central|TEC-PH-10002898|     Technology|      Phones|Samsung Smart Pho...|2167.296|       4|    0.15|790.416|       2549.76|                 382.46|\n",
      "|    15|ES-2015-2510515|20/06/2015|20/06/2015|      Same Day|   LH-17155|Logan Haushalter|   Consumer|   Le Bouscat|Aquitaine-Limousi...|        France|Central|OFF-ST-10001413|Office Supplies|     Storage|Rogers Folders, Blue| 138.105|       5|     0.1|-12.345|        153.45|                  15.34|\n",
      "|    16|ES-2016-4380115|16/02/2016|20/02/2016|Standard Class|   KC-16540| Kelly Collister|   Consumer|   Strasbourg|Alsace-Champagne-...|        France|Central|OFF-ST-10003931|Office Supplies|     Storage|Smead Trays, Wire...| 128.385|       3|     0.1|  4.275|        142.65|                  14.27|\n",
      "|    17|ES-2016-4380115|16/02/2016|20/02/2016|Standard Class|   KC-16540| Kelly Collister|   Consumer|   Strasbourg|Alsace-Champagne-...|        France|Central|TEC-AC-10004269|     Technology| Accessories|Belkin Memory Car...|  690.12|       6|     0.0|    0.0|        690.12|                    0.0|\n",
      "|    18|ES-2016-4380115|16/02/2016|20/02/2016|Standard Class|   KC-16540| Kelly Collister|   Consumer|   Strasbourg|Alsace-Champagne-...|        France|Central|OFF-LA-10001676|Office Supplies|      Labels|Hon Removable Lab...|    8.16|       1|     0.0|   1.14|          8.16|                    0.0|\n",
      "|    19|ES-2017-2573330|03/11/2017|08/11/2017|Standard Class|   BF-11170|      Ben Ferrer|Home Office|         Unna|North Rhine-Westp...|       Germany|Central|TEC-MA-10000811|     Technology|    Machines|Okidata Phone, Du...|  347.88|       4|     0.0|  76.44|        347.88|                    0.0|\n",
      "|    20|ES-2017-2573330|03/11/2017|08/11/2017|Standard Class|   BF-11170|      Ben Ferrer|Home Office|         Unna|North Rhine-Westp...|       Germany|Central|OFF-ST-10000648|Office Supplies|     Storage|Eldon File Cart, ...| 575.505|       5|     0.1| 12.705|        639.45|                  63.95|\n",
      "+------+---------------+----------+----------+--------------+-----------+----------------+-----------+-------------+--------------------+--------------+-------+---------------+---------------+------------+--------------------+--------+--------+--------+-------+--------------+-----------------------+\n",
      "only showing top 20 rows\n",
      "\n"
     ]
    }
   ],
   "source": [
    "# calculate the difference between sales and discount value\n",
    "from pyspark.sql.functions import abs\n",
    "df2 = df1.withColumn(\"SalesDiscountDifference\", abs(round(col(\"Sales\") - col(\"original_sales\"), 2)))\n",
    "df2.show()\n",
    "# I decided to calculate the absolute value of \"SalesDiscountDifference\" in order to facilitate the next operation"
   ]
  },
  {
   "cell_type": "code",
   "execution_count": 141,
   "id": "8e810f4f",
   "metadata": {},
   "outputs": [
    {
     "name": "stdout",
     "output_type": "stream",
     "text": [
      "+--------+----------+\n",
      "|Discount|LostProfit|\n",
      "+--------+----------+\n",
      "|     0.0|       0.0|\n",
      "|     0.1|  84712.86|\n",
      "|    0.15|  45233.16|\n",
      "|     0.2|  10653.11|\n",
      "|     0.3|   2630.23|\n",
      "|    0.35|  29163.12|\n",
      "|     0.4|  46724.64|\n",
      "|    0.45|   2083.44|\n",
      "|     0.5| 183735.71|\n",
      "|     0.6|  39644.07|\n",
      "|    0.65|  12219.66|\n",
      "|     0.7|    8534.1|\n",
      "|     0.8|    635.67|\n",
      "|    0.85|   4515.44|\n",
      "+--------+----------+\n",
      "\n"
     ]
    }
   ],
   "source": [
    "# how much money did we not gain due to the discounts - per discount bracket?\n",
    "lost_profit = df2.groupBy('Discount') \\\n",
    "                 .agg(round(sum(df2['SalesDiscountDifference']), 2)) \\\n",
    "                 .withColumnRenamed('round(sum(SalesDiscountDifference), 2)', 'LostProfit') \\\n",
    "                 .orderBy('Discount')\n",
    "\n",
    "lost_profit.show()"
   ]
  },
  {
   "cell_type": "code",
   "execution_count": 144,
   "id": "76aca9f2",
   "metadata": {},
   "outputs": [
    {
     "name": "stdout",
     "output_type": "stream",
     "text": [
      "+--------+----------+\n",
      "|Discount|LostProfit|\n",
      "+--------+----------+\n",
      "|     0.5| 183735.71|\n",
      "+--------+----------+\n",
      "only showing top 1 row\n",
      "\n"
     ]
    }
   ],
   "source": [
    "# find the discount bracket which made us not gain the most (dynamically)\n",
    "# solution 1\n",
    "lost_profit.orderBy('LostProfit', ascending=False).show(1)"
   ]
  },
  {
   "cell_type": "code",
   "execution_count": 160,
   "id": "69a56361",
   "metadata": {},
   "outputs": [
    {
     "name": "stdout",
     "output_type": "stream",
     "text": [
      "+--------+----------+\n",
      "|Discount|LostProfit|\n",
      "+--------+----------+\n",
      "|     0.5| 183735.71|\n",
      "+--------+----------+\n",
      "\n"
     ]
    }
   ],
   "source": [
    "# solution 2\n",
    "max_loss = lost_profit.select(max('LostProfit'))\n",
    "max_loss = max_loss.first()[0]\n",
    "\n",
    "lost_profit.filter(lost_profit['LostProfit'] == max_loss).show()"
   ]
  },
  {
   "cell_type": "code",
   "execution_count": 182,
   "id": "0aa9b685",
   "metadata": {},
   "outputs": [
    {
     "name": "stdout",
     "output_type": "stream",
     "text": [
      "+------------------+\n",
      "|TotalProfitCleaned|\n",
      "+------------------+\n",
      "|         469461.86|\n",
      "+------------------+\n",
      "\n"
     ]
    },
    {
     "data": {
      "text/plain": [
       "469461.86"
      ]
     },
     "execution_count": 182,
     "metadata": {},
     "output_type": "execute_result"
    }
   ],
   "source": [
    "# what would have been the total profit if we removed all orders from that discount group? \n",
    "df2.filter(df['Discount'] != 0.5).select(round(sum('Profit'), 2)).withColumnRenamed('round(sum(Profit), 2)', 'TotalProfitCleaned').show()\n",
    "total_profit_cleaned = df2.filter(df['Discount'] != 0.5).select(round(sum('Profit'), 2)).first()[0] # accessing the value\n",
    "total_profit_cleaned"
   ]
  },
  {
   "cell_type": "code",
   "execution_count": 189,
   "id": "fca95e60",
   "metadata": {},
   "outputs": [
    {
     "data": {
      "text/plain": [
       "-96631.85999999999"
      ]
     },
     "execution_count": 189,
     "metadata": {},
     "output_type": "execute_result"
    }
   ],
   "source": [
    "#how much more (or less) profit is that?\n",
    "total_profit_raw = df.select(round(sum('Profit'))).first()[0]\n",
    "\n",
    "total_profit_raw - total_profit_cleaned\n",
    "# the profit without the sales with 50% Discount would have been of 96631.86€ more"
   ]
  },
  {
   "cell_type": "code",
   "execution_count": 190,
   "id": "0fb49200",
   "metadata": {},
   "outputs": [],
   "source": [
    "# create a temporary table for our superstore table in sql\n",
    "df.createOrReplaceTempView('superstore')"
   ]
  },
  {
   "cell_type": "code",
   "execution_count": 199,
   "id": "a23e0bca",
   "metadata": {},
   "outputs": [
    {
     "name": "stdout",
     "output_type": "stream",
     "text": [
      "+--------+\n",
      "|count(1)|\n",
      "+--------+\n",
      "|   10000|\n",
      "+--------+\n",
      "\n"
     ]
    },
    {
     "data": {
      "text/plain": [
       "10000"
      ]
     },
     "execution_count": 199,
     "metadata": {},
     "output_type": "execute_result"
    }
   ],
   "source": [
    "# use an SQL query to count the number of rows\n",
    "spark.sql(\"SELECT COUNT(*) FROM superstore\").show()\n",
    "spark.sql(\"SELECT COUNT(*) FROM superstore\").first()[0]"
   ]
  },
  {
   "cell_type": "code",
   "execution_count": 205,
   "id": "8e2cf9f2",
   "metadata": {},
   "outputs": [
    {
     "name": "stdout",
     "output_type": "stream",
     "text": [
      "+--------------+------------+\n",
      "|       country|profit_ratio|\n",
      "+--------------+------------+\n",
      "|        Sweden|       -0.57|\n",
      "|       Germany|        0.17|\n",
      "|        France|        0.13|\n",
      "|       Belgium|        0.24|\n",
      "|       Finland|        0.19|\n",
      "|         Italy|        0.07|\n",
      "|        Norway|        0.25|\n",
      "|         Spain|        0.19|\n",
      "|       Denmark|        -0.5|\n",
      "|       Ireland|       -0.44|\n",
      "|   Switzerland|        0.29|\n",
      "|      Portugal|       -0.58|\n",
      "|       Austria|        0.26|\n",
      "|United Kingdom|        0.21|\n",
      "|   Netherlands|       -0.53|\n",
      "+--------------+------------+\n",
      "\n"
     ]
    }
   ],
   "source": [
    "# Use an SQL query to calculate the profit ratio for each country: hint, ratio is sum(profit)/sum(sales)\n",
    "spark.sql(\"SELECT country, ROUND(SUM(profit)/SUM(sales), 2) AS profit_ratio \\\n",
    "           FROM superstore \\\n",
    "           GROUP BY country\").show()"
   ]
  },
  {
   "cell_type": "code",
   "execution_count": 210,
   "id": "f8cdd772",
   "metadata": {},
   "outputs": [
    {
     "data": {
      "text/plain": [
       "'Switzerland'"
      ]
     },
     "execution_count": 210,
     "metadata": {},
     "output_type": "execute_result"
    }
   ],
   "source": [
    "# is the country with the largest profit ratio, the country with the largest profit?\n",
    "\n",
    "highest_profit_ratio_country = spark.sql(\"SELECT country, ROUND(SUM(profit)/SUM(sales), 2) AS profit_ratio \\\n",
    "                                          FROM superstore \\\n",
    "                                          GROUP BY country \\\n",
    "                                          ORDER BY profit_ratio DESC \\\n",
    "                                          LIMIT 1\").first()[0]\n",
    "highest_profit_ratio_country"
   ]
  },
  {
   "cell_type": "code",
   "execution_count": 213,
   "id": "e0980da3",
   "metadata": {},
   "outputs": [
    {
     "data": {
      "text/plain": [
       "'United Kingdom'"
      ]
     },
     "execution_count": 213,
     "metadata": {},
     "output_type": "execute_result"
    }
   ],
   "source": [
    "highest_profit_country = spark.sql(\"SELECT country, ROUND(SUM(profit), 2) AS profit \\\n",
    "                                    FROM superstore \\\n",
    "                                    GROUP BY country \\\n",
    "                                    ORDER BY profit DESC \\\n",
    "                                    LIMIT 1\").first()[0]\n",
    "highest_profit_country"
   ]
  },
  {
   "cell_type": "code",
   "execution_count": 214,
   "id": "c2361def",
   "metadata": {},
   "outputs": [
    {
     "data": {
      "text/plain": [
       "False"
      ]
     },
     "execution_count": 214,
     "metadata": {},
     "output_type": "execute_result"
    }
   ],
   "source": [
    "highest_profit_ratio_country == highest_profit_country"
   ]
  }
 ],
 "metadata": {
  "kernelspec": {
   "display_name": "Python 3 (ipykernel)",
   "language": "python",
   "name": "python3"
  },
  "language_info": {
   "codemirror_mode": {
    "name": "ipython",
    "version": 3
   },
   "file_extension": ".py",
   "mimetype": "text/x-python",
   "name": "python",
   "nbconvert_exporter": "python",
   "pygments_lexer": "ipython3",
   "version": "3.11.3"
  }
 },
 "nbformat": 4,
 "nbformat_minor": 5
}
