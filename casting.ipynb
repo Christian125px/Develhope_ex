{
 "cells": [
  {
   "cell_type": "markdown",
   "metadata": {},
   "source": [
    "# Casting - Exercise"
   ]
  },
  {
   "cell_type": "markdown",
   "metadata": {},
   "source": [
    "Create a float variable float_num\n",
    "Use the int function to cast float_num to an integer and store the result in a new variable int_num\n",
    "Use the str function to cast int_num to a string and store the result in a new variable str_num\n",
    "Print the original float_num and the result of each casting to observe the changes in the data type."
   ]
  },
  {
   "cell_type": "code",
   "execution_count": 1,
   "metadata": {},
   "outputs": [],
   "source": [
    "# Create a float variable float_num\n",
    "float_num = 7.5"
   ]
  },
  {
   "cell_type": "code",
   "execution_count": 2,
   "metadata": {},
   "outputs": [],
   "source": [
    "# Use the int function to cast float_num to an integer and store the result in a new variable int_num\n",
    "int_num = int(float_num)"
   ]
  },
  {
   "cell_type": "code",
   "execution_count": 3,
   "metadata": {},
   "outputs": [],
   "source": [
    "# Use the str function to cast int_num to a string and store the result in a new variable str_num\n",
    "str_num = str(int_num)"
   ]
  },
  {
   "cell_type": "code",
   "execution_count": 10,
   "metadata": {},
   "outputs": [
    {
     "name": "stdout",
     "output_type": "stream",
     "text": [
      "7.5\n",
      "7\n",
      "7\n",
      "<class 'float'>\n",
      "<class 'int'>\n",
      "<class 'str'>\n"
     ]
    }
   ],
   "source": [
    "# Print the original float_num and the result of each casting to observe the changes in the data type.\n",
    "print(float_num)\n",
    "print(int_num)\n",
    "print(str_num)\n",
    "\n",
    "# checking the changes in data types\n",
    "print(type(float_num))\n",
    "print(type(int_num))\n",
    "print(type(str_num))"
   ]
  }
 ],
 "metadata": {
  "kernelspec": {
   "display_name": "Python 3",
   "language": "python",
   "name": "python3"
  },
  "language_info": {
   "codemirror_mode": {
    "name": "ipython",
    "version": 3
   },
   "file_extension": ".py",
   "mimetype": "text/x-python",
   "name": "python",
   "nbconvert_exporter": "python",
   "pygments_lexer": "ipython3",
   "version": "3.11.3"
  },
  "orig_nbformat": 4
 },
 "nbformat": 4,
 "nbformat_minor": 2
}
