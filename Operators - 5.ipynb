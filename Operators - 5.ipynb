{
 "cells": [
  {
   "cell_type": "markdown",
   "id": "73420ded",
   "metadata": {},
   "source": [
    "## Operators - 5"
   ]
  },
  {
   "cell_type": "markdown",
   "id": "c4dc24a4",
   "metadata": {},
   "source": [
    "#### Initialize and print the sentence variable using the appropriate operators."
   ]
  },
  {
   "cell_type": "code",
   "execution_count": 1,
   "id": "265ad074",
   "metadata": {},
   "outputs": [
    {
     "name": "stdout",
     "output_type": "stream",
     "text": [
      "Mario Rossi\n"
     ]
    }
   ],
   "source": [
    "firstName = \"Mario\"\n",
    "lastName = \"Rossi\"\n",
    "\n",
    "sentence = firstName + \" \" + lastName\n",
    "\n",
    "print(sentence) # Should print \"Mario Rossi\"\n"
   ]
  },
  {
   "cell_type": "code",
   "execution_count": 2,
   "id": "c11278df",
   "metadata": {},
   "outputs": [
    {
     "name": "stdout",
     "output_type": "stream",
     "text": [
      "Mario Rossi\n"
     ]
    }
   ],
   "source": [
    "sentence2 = f\"{firstName} {lastName}\"\n",
    "print(sentence2)"
   ]
  }
 ],
 "metadata": {
  "kernelspec": {
   "display_name": "Python 3 (ipykernel)",
   "language": "python",
   "name": "python3"
  },
  "language_info": {
   "codemirror_mode": {
    "name": "ipython",
    "version": 3
   },
   "file_extension": ".py",
   "mimetype": "text/x-python",
   "name": "python",
   "nbconvert_exporter": "python",
   "pygments_lexer": "ipython3",
   "version": "3.11.3"
  }
 },
 "nbformat": 4,
 "nbformat_minor": 5
}
